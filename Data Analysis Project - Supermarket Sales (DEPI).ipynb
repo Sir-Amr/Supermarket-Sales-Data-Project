{
 "cells": [
  {
   "cell_type": "markdown",
   "id": "d19b4c38-45bb-4ea0-9ef3-33d1b7e2e2d5",
   "metadata": {},
   "source": [
    "<h1 style=\"color:darkblue; font-size:44px; font-weight:bold; background-color:red; padding:10px; border-radius:8px;\"\">Data Analysis Using Python</h1>"
   ]
  },
  {
   "cell_type": "markdown",
   "id": "b0af5154-a128-4d8b-a591-fc4477f827b7",
   "metadata": {},
   "source": [
    "<h1 style=\"color:lightGreen; font-size:32px; font-weight:bold; background-color:#1C1C1C;padding:10px; border-radius:8px;\">1.Importing Required Libraries</h1>"
   ]
  },
  {
   "cell_type": "markdown",
   "id": "028652be-2f6e-4b70-8669-b164fc3dbba0",
   "metadata": {},
   "source": [
    "##### <span style=\"color:orange\">Importing required libraries means loading external Python libraries into your script or notebook so you can use their functions and tools."
   ]
  },
  {
   "cell_type": "code",
   "execution_count": 1,
   "id": "8b8892ca-4230-4039-a275-5e10165f404c",
   "metadata": {},
   "outputs": [],
   "source": [
    "# 1.1-Pandas : is an open-source Python library used for data manipulation and analysis.\n",
    "import pandas as pd\n",
    "# 1.2-Numpy : is an open-source Python library used for scientific computing and numerical operations.\n",
    "import numpy as np\n",
    "# 1.3-Matplotlib : is a powerful Python library used for data visualization.\n",
    "import matplotlib.pyplot as plt\n",
    "# to display Matplotlib plots directly :\n",
    "%matplotlib inline \n",
    "# 1.4-Seaborn : is a Python data visualization library built on top of Matplotlib.\n",
    "import seaborn as sns"
   ]
  },
  {
   "cell_type": "markdown",
   "id": "2f449e12-772c-4962-bb34-e1f3c30e8cd4",
   "metadata": {},
   "source": [
    "<h1 style=\"color:lightGreen; font-size:32px; font-weight:bold; background-color:#1C1C1C;padding:10px; border-radius:8px;\">2.Loading the Dataset</h1>"
   ]
  },
  {
   "cell_type": "markdown",
   "id": "7675b071-b0d7-4523-b58f-b14ac7b5eb97",
   "metadata": {},
   "source": [
    "##### <span style=\"color:orange\"> importing data from an external file (such as CSV, Excel, JSON, or SQL) into a Pandas DataFrame so it can be analyzed and processed using Python. "
   ]
  },
  {
   "cell_type": "code",
   "execution_count": 2,
   "id": "e7676054-f2f9-48d8-a957-73e638ecb993",
   "metadata": {},
   "outputs": [],
   "source": [
    "# Reading CSV File \n",
    "df = pd.read_csv(\"Python Project Data - Supermarket Sales.csv\")"
   ]
  },
  {
   "cell_type": "markdown",
   "id": "307e970b-bfab-47bd-826f-ac42184d161a",
   "metadata": {},
   "source": [
    "<h1 style=\"color:lightGreen; font-size:32px; font-weight:bold; background-color:#1C1C1C;padding:10px; border-radius:8px;\">3.Exploring the Data</h1>"
   ]
  },
  {
   "cell_type": "markdown",
   "id": "e88f2673-d1a0-4ad9-92e7-264f4739bbaf",
   "metadata": {},
   "source": [
    "##### <span style=\"color:orange\"> examining the dataset to understand its structure, quality, and key characteristics before performing analysis.\n",
    "\n"
   ]
  },
  {
   "cell_type": "code",
   "execution_count": 3,
   "id": "04b0718f-a703-4eae-bb7f-2b7ffcc3b171",
   "metadata": {
    "scrolled": true
   },
   "outputs": [
    {
     "data": {
      "text/html": [
       "<div>\n",
       "<style scoped>\n",
       "    .dataframe tbody tr th:only-of-type {\n",
       "        vertical-align: middle;\n",
       "    }\n",
       "\n",
       "    .dataframe tbody tr th {\n",
       "        vertical-align: top;\n",
       "    }\n",
       "\n",
       "    .dataframe thead th {\n",
       "        text-align: right;\n",
       "    }\n",
       "</style>\n",
       "<table border=\"1\" class=\"dataframe\">\n",
       "  <thead>\n",
       "    <tr style=\"text-align: right;\">\n",
       "      <th></th>\n",
       "      <th>Invoice ID</th>\n",
       "      <th>Branch</th>\n",
       "      <th>Yangon</th>\n",
       "      <th>Naypyitaw</th>\n",
       "      <th>Mandalay</th>\n",
       "      <th>Customer type</th>\n",
       "      <th>Gender</th>\n",
       "      <th>Product line</th>\n",
       "      <th>Unit price</th>\n",
       "      <th>Quantity</th>\n",
       "      <th>Tax 5%</th>\n",
       "      <th>Total</th>\n",
       "      <th>Date</th>\n",
       "      <th>Time</th>\n",
       "      <th>Payment</th>\n",
       "      <th>Rating</th>\n",
       "    </tr>\n",
       "  </thead>\n",
       "  <tbody>\n",
       "    <tr>\n",
       "      <th>0</th>\n",
       "      <td>750-67-8428</td>\n",
       "      <td>A</td>\n",
       "      <td>1</td>\n",
       "      <td>0</td>\n",
       "      <td>0</td>\n",
       "      <td>Normal</td>\n",
       "      <td>Male</td>\n",
       "      <td>Health and beauty</td>\n",
       "      <td>74.69</td>\n",
       "      <td>7</td>\n",
       "      <td>26.1415</td>\n",
       "      <td>NaN</td>\n",
       "      <td>1/5/2019</td>\n",
       "      <td>13:08</td>\n",
       "      <td>Ewallet</td>\n",
       "      <td>9.1</td>\n",
       "    </tr>\n",
       "    <tr>\n",
       "      <th>1</th>\n",
       "      <td>226-31-3081</td>\n",
       "      <td>C</td>\n",
       "      <td>0</td>\n",
       "      <td>1</td>\n",
       "      <td>0</td>\n",
       "      <td>Normal</td>\n",
       "      <td>Male</td>\n",
       "      <td>Electronic accessories</td>\n",
       "      <td>15.28</td>\n",
       "      <td>5</td>\n",
       "      <td>3.8200</td>\n",
       "      <td>80.2200</td>\n",
       "      <td>3/8/2019</td>\n",
       "      <td>10:29</td>\n",
       "      <td>Cash</td>\n",
       "      <td>9.6</td>\n",
       "    </tr>\n",
       "    <tr>\n",
       "      <th>2</th>\n",
       "      <td>631-41-3108</td>\n",
       "      <td>A</td>\n",
       "      <td>1</td>\n",
       "      <td>0</td>\n",
       "      <td>0</td>\n",
       "      <td>Normal</td>\n",
       "      <td>Male</td>\n",
       "      <td>Home and lifestyle</td>\n",
       "      <td>46.33</td>\n",
       "      <td>7</td>\n",
       "      <td>16.2155</td>\n",
       "      <td>340.5255</td>\n",
       "      <td>3/3/2019</td>\n",
       "      <td>13:23</td>\n",
       "      <td>Credit card</td>\n",
       "      <td>7.4</td>\n",
       "    </tr>\n",
       "    <tr>\n",
       "      <th>3</th>\n",
       "      <td>123-19-1176</td>\n",
       "      <td>A</td>\n",
       "      <td>1</td>\n",
       "      <td>0</td>\n",
       "      <td>0</td>\n",
       "      <td>Normal</td>\n",
       "      <td>Male</td>\n",
       "      <td>Health and beauty</td>\n",
       "      <td>58.22</td>\n",
       "      <td>8</td>\n",
       "      <td>NaN</td>\n",
       "      <td>489.0480</td>\n",
       "      <td>1/27/2019</td>\n",
       "      <td>8 - 30 PM</td>\n",
       "      <td>Ewallet</td>\n",
       "      <td>8.4</td>\n",
       "    </tr>\n",
       "    <tr>\n",
       "      <th>4</th>\n",
       "      <td>373-73-7910</td>\n",
       "      <td>A</td>\n",
       "      <td>1</td>\n",
       "      <td>0</td>\n",
       "      <td>0</td>\n",
       "      <td>Normal</td>\n",
       "      <td>Male</td>\n",
       "      <td>Sports and travel</td>\n",
       "      <td>86.31</td>\n",
       "      <td>7</td>\n",
       "      <td>30.2085</td>\n",
       "      <td>634.3785</td>\n",
       "      <td>2/8/2019</td>\n",
       "      <td>10:37</td>\n",
       "      <td>Ewallet</td>\n",
       "      <td>5.3</td>\n",
       "    </tr>\n",
       "  </tbody>\n",
       "</table>\n",
       "</div>"
      ],
      "text/plain": [
       "    Invoice ID Branch  Yangon  Naypyitaw  Mandalay Customer type Gender  \\\n",
       "0  750-67-8428      A       1          0         0        Normal   Male   \n",
       "1  226-31-3081      C       0          1         0        Normal   Male   \n",
       "2  631-41-3108      A       1          0         0        Normal   Male   \n",
       "3  123-19-1176      A       1          0         0        Normal   Male   \n",
       "4  373-73-7910      A       1          0         0        Normal   Male   \n",
       "\n",
       "             Product line Unit price  Quantity   Tax 5%     Total       Date  \\\n",
       "0       Health and beauty      74.69         7  26.1415       NaN   1/5/2019   \n",
       "1  Electronic accessories      15.28         5   3.8200   80.2200   3/8/2019   \n",
       "2      Home and lifestyle      46.33         7  16.2155  340.5255   3/3/2019   \n",
       "3       Health and beauty      58.22         8      NaN  489.0480  1/27/2019   \n",
       "4       Sports and travel      86.31         7  30.2085  634.3785   2/8/2019   \n",
       "\n",
       "        Time      Payment  Rating  \n",
       "0      13:08      Ewallet     9.1  \n",
       "1      10:29         Cash     9.6  \n",
       "2      13:23  Credit card     7.4  \n",
       "3  8 - 30 PM      Ewallet     8.4  \n",
       "4      10:37      Ewallet     5.3  "
      ]
     },
     "execution_count": 3,
     "metadata": {},
     "output_type": "execute_result"
    }
   ],
   "source": [
    "# Show the first 5 rows\n",
    "df.head(5)"
   ]
  },
  {
   "cell_type": "code",
   "execution_count": 4,
   "id": "1d40ee9d-6898-451c-994d-af791b2de700",
   "metadata": {},
   "outputs": [
    {
     "name": "stdout",
     "output_type": "stream",
     "text": [
      "<class 'pandas.core.frame.DataFrame'>\n",
      "RangeIndex: 1006 entries, 0 to 1005\n",
      "Data columns (total 16 columns):\n",
      " #   Column         Non-Null Count  Dtype  \n",
      "---  ------         --------------  -----  \n",
      " 0   Invoice ID     1006 non-null   object \n",
      " 1   Branch         1006 non-null   object \n",
      " 2   Yangon         1006 non-null   int64  \n",
      " 3   Naypyitaw      1006 non-null   int64  \n",
      " 4   Mandalay       1006 non-null   int64  \n",
      " 5   Customer type  1006 non-null   object \n",
      " 6   Gender         1006 non-null   object \n",
      " 7   Product line   1006 non-null   object \n",
      " 8   Unit price     1006 non-null   object \n",
      " 9   Quantity       1006 non-null   int64  \n",
      " 10  Tax 5%         997 non-null    float64\n",
      " 11  Total          1003 non-null   float64\n",
      " 12  Date           1006 non-null   object \n",
      " 13  Time           1006 non-null   object \n",
      " 14  Payment        1006 non-null   object \n",
      " 15  Rating         1006 non-null   float64\n",
      "dtypes: float64(3), int64(4), object(9)\n",
      "memory usage: 125.9+ KB\n"
     ]
    }
   ],
   "source": [
    "# Check data types and missing values\n",
    "df.info()"
   ]
  },
  {
   "cell_type": "code",
   "execution_count": 5,
   "id": "05102b47-11b2-4a72-970c-19377ef14c67",
   "metadata": {},
   "outputs": [
    {
     "data": {
      "text/html": [
       "<div>\n",
       "<style scoped>\n",
       "    .dataframe tbody tr th:only-of-type {\n",
       "        vertical-align: middle;\n",
       "    }\n",
       "\n",
       "    .dataframe tbody tr th {\n",
       "        vertical-align: top;\n",
       "    }\n",
       "\n",
       "    .dataframe thead th {\n",
       "        text-align: right;\n",
       "    }\n",
       "</style>\n",
       "<table border=\"1\" class=\"dataframe\">\n",
       "  <thead>\n",
       "    <tr style=\"text-align: right;\">\n",
       "      <th></th>\n",
       "      <th>Yangon</th>\n",
       "      <th>Naypyitaw</th>\n",
       "      <th>Mandalay</th>\n",
       "      <th>Quantity</th>\n",
       "      <th>Tax 5%</th>\n",
       "      <th>Total</th>\n",
       "      <th>Rating</th>\n",
       "    </tr>\n",
       "  </thead>\n",
       "  <tbody>\n",
       "    <tr>\n",
       "      <th>count</th>\n",
       "      <td>1006.000000</td>\n",
       "      <td>1006.000000</td>\n",
       "      <td>1006.000000</td>\n",
       "      <td>1006.000000</td>\n",
       "      <td>997.000000</td>\n",
       "      <td>1003.000000</td>\n",
       "      <td>1006.000000</td>\n",
       "    </tr>\n",
       "    <tr>\n",
       "      <th>mean</th>\n",
       "      <td>0.338966</td>\n",
       "      <td>0.329026</td>\n",
       "      <td>0.332008</td>\n",
       "      <td>5.469185</td>\n",
       "      <td>15.479682</td>\n",
       "      <td>322.734689</td>\n",
       "      <td>7.056163</td>\n",
       "    </tr>\n",
       "    <tr>\n",
       "      <th>std</th>\n",
       "      <td>0.473594</td>\n",
       "      <td>0.470093</td>\n",
       "      <td>0.471168</td>\n",
       "      <td>3.014153</td>\n",
       "      <td>11.728320</td>\n",
       "      <td>245.865964</td>\n",
       "      <td>3.318751</td>\n",
       "    </tr>\n",
       "    <tr>\n",
       "      <th>min</th>\n",
       "      <td>0.000000</td>\n",
       "      <td>0.000000</td>\n",
       "      <td>0.000000</td>\n",
       "      <td>-8.000000</td>\n",
       "      <td>0.508500</td>\n",
       "      <td>10.678500</td>\n",
       "      <td>4.000000</td>\n",
       "    </tr>\n",
       "    <tr>\n",
       "      <th>25%</th>\n",
       "      <td>0.000000</td>\n",
       "      <td>0.000000</td>\n",
       "      <td>0.000000</td>\n",
       "      <td>3.000000</td>\n",
       "      <td>5.986500</td>\n",
       "      <td>123.789750</td>\n",
       "      <td>5.500000</td>\n",
       "    </tr>\n",
       "    <tr>\n",
       "      <th>50%</th>\n",
       "      <td>0.000000</td>\n",
       "      <td>0.000000</td>\n",
       "      <td>0.000000</td>\n",
       "      <td>5.000000</td>\n",
       "      <td>12.227500</td>\n",
       "      <td>254.016000</td>\n",
       "      <td>7.000000</td>\n",
       "    </tr>\n",
       "    <tr>\n",
       "      <th>75%</th>\n",
       "      <td>1.000000</td>\n",
       "      <td>1.000000</td>\n",
       "      <td>1.000000</td>\n",
       "      <td>8.000000</td>\n",
       "      <td>22.720500</td>\n",
       "      <td>471.009000</td>\n",
       "      <td>8.500000</td>\n",
       "    </tr>\n",
       "    <tr>\n",
       "      <th>max</th>\n",
       "      <td>1.000000</td>\n",
       "      <td>1.000000</td>\n",
       "      <td>1.000000</td>\n",
       "      <td>10.000000</td>\n",
       "      <td>49.650000</td>\n",
       "      <td>1042.650000</td>\n",
       "      <td>97.000000</td>\n",
       "    </tr>\n",
       "  </tbody>\n",
       "</table>\n",
       "</div>"
      ],
      "text/plain": [
       "            Yangon    Naypyitaw     Mandalay     Quantity      Tax 5%  \\\n",
       "count  1006.000000  1006.000000  1006.000000  1006.000000  997.000000   \n",
       "mean      0.338966     0.329026     0.332008     5.469185   15.479682   \n",
       "std       0.473594     0.470093     0.471168     3.014153   11.728320   \n",
       "min       0.000000     0.000000     0.000000    -8.000000    0.508500   \n",
       "25%       0.000000     0.000000     0.000000     3.000000    5.986500   \n",
       "50%       0.000000     0.000000     0.000000     5.000000   12.227500   \n",
       "75%       1.000000     1.000000     1.000000     8.000000   22.720500   \n",
       "max       1.000000     1.000000     1.000000    10.000000   49.650000   \n",
       "\n",
       "             Total       Rating  \n",
       "count  1003.000000  1006.000000  \n",
       "mean    322.734689     7.056163  \n",
       "std     245.865964     3.318751  \n",
       "min      10.678500     4.000000  \n",
       "25%     123.789750     5.500000  \n",
       "50%     254.016000     7.000000  \n",
       "75%     471.009000     8.500000  \n",
       "max    1042.650000    97.000000  "
      ]
     },
     "execution_count": 5,
     "metadata": {},
     "output_type": "execute_result"
    }
   ],
   "source": [
    "# Description of the data in the DataFrame\n",
    "df.describe()"
   ]
  },
  {
   "cell_type": "markdown",
   "id": "9c1ddfb4-8dcd-4be7-aa4a-d4df8c48eb09",
   "metadata": {
    "jp-MarkdownHeadingCollapsed": true
   },
   "source": [
    "<h1 style=\"color:#00274D; background-color:#FFD700; padding:10px; border-radius:8px;\">\n",
    "    📌 Featureset Exploration\n",
    "</h1>\n",
    "\n",
    "<ul style=\"color:#00FF7F; font-weight:bold; background-color:#2F2F2F; padding:20px; border-radius:5px;\"> <b>\n",
    "    <li>Invoice ID : Nominal Data</li>\n",
    "    <li>Branch : Nominal Data (A , B , C ) </li>\n",
    "    <li>Yangon , Naypyitaw , Mandalay : Nominal Data (1,0 ,Note : All are cities in Myanmar ) </li>\n",
    "    <li style=\"color:red;\">Customer type : Nominal Data ['Normal', 'Member']   (Note : '-' , 'Memberr' This value has an issue)  </li> \n",
    "    <li>Gender : Nominal Data [Male, Female] </li>\n",
    "    <li>Product line : Nominal Data [Health and beauty , Electronic accessories , Home and lifestyle ,.....]</li>\n",
    "    <li style=\"color:red;\">Unit price : Continuous [74.69 , 15.28 , ....]  (Note : Must be float64)</li>\n",
    "    <li style=\"color:red;\">Quantity : Discrete Data [7 , 5 , 6 , .....] (Note : \"There is a negative value.\")</li>\n",
    "    <li>Tax 5% : Continuous [3.305 , 26.1415 , ..... ] </li>\n",
    "    <li>Total : Continuous [69.405 , 80.2200 , 340.5255 , ....] </li>\n",
    "    <li style=\"color:red;\">Date : Date-Time [1/5/2019 ,\t3/8/2019 , .....] (Note : Must be datetime) </li>\n",
    "    <li style=\"color:red;\">Time : Date-Time [13:08 , 19:26\t, ....] (Note : Must be datetime)</li>\n",
    "    <li>Payment : Nominal [Cash , Credit card , Ewallet] </li>\n",
    "    <li style=\"color:red;\">Rating : Continuous  [9.1,  9.6,  7.4,  8.4 , .....] (Note : 97) </li>\n",
    "</u>\n"
   ]
  },
  {
   "cell_type": "markdown",
   "id": "42aa83da-0af9-4142-b0f3-0f0c74298622",
   "metadata": {},
   "source": [
    "<h3 style=\"color:#87CEEB; background-color:#2F2F2F; padding:8px; border-radius:6px;\">1- Mising Data columns (Two Columns):  </h3>\n",
    "\n",
    " <ul><b style=\"color:red; font-size:18px;\"> \n",
    "   <li>Tax 5% = ((unit_price * 5% \"Tax\") * quantity)</li>\n",
    "     <br>\n",
    "  <li>Total = ((unit_price * (1 + 5% \"Tax\") * quantity)</li>                                 \n",
    " </ul>"
   ]
  },
  {
   "cell_type": "markdown",
   "id": "ab9c774c-0f37-4649-a428-504c2cbb864d",
   "metadata": {},
   "source": [
    "<h3 style=\"color:#87CEEB; background-color:#2F2F2F; padding:8px; border-radius:6px;\">2- not valid data (Four Columns) :  </h3>\n",
    "\n",
    " <ul><b style=\"color:red; font-size:18px;\"> \n",
    "   <li>Customer type ['Memberr' Must be 'Member' , '-']</li>\n",
    "     <br>\n",
    "   <li>Unit price ['12.45 USD' Must be 'float']</li>\n",
    "     <br>\n",
    "   <li>Date [Must be data-time]</li>\n",
    "     <br>\n",
    "   <li>Date [Must be data-time]</li>"
   ]
  },
  {
   "cell_type": "markdown",
   "id": "f86ecf56-a7e8-4ed7-9a11-0af83c7eeee5",
   "metadata": {},
   "source": [
    "<h3 style=\"color:#87CEEB; background-color:#2F2F2F; padding:8px; border-radius:6px;\">3- Accuerecy  :</h3>\n",
    " <ul><b style=\"color:red; font-size:18px;\"> \n",
    "   <li>nothing to do.</li>    \n",
    "   <br>\n"
   ]
  },
  {
   "cell_type": "markdown",
   "id": "5b6cc87c-9c35-4225-ae37-f6f3a958dea5",
   "metadata": {},
   "source": [
    "<h3 style=\"color:#87CEEB; background-color:#2F2F2F; padding:8px; border-radius:6px;\">4- Consistency : </h3\n",
    "\n",
    " <ul><b style=\"color:red; font-size:18px;\"> \n",
    "   <li>nothing to do.</li>    "
   ]
  },
  {
   "cell_type": "markdown",
   "id": "db6a48d7-e237-4cad-852e-a9917e5177e2",
   "metadata": {},
   "source": [
    "<h1 style=\"color:lightGreen; font-size:32px; font-weight:bold; background-color:#1C1C1C;padding:10px; border-radius:8px;\">4.Data Cleaning</h1>"
   ]
  },
  {
   "cell_type": "markdown",
   "id": "6fd858f2-56e7-48e2-87e8-ccfd318e5e73",
   "metadata": {},
   "source": [
    "##### <span style=\"color:orange\"> is the process of identifying and correcting errors in a dataset to improve its quality and reliability. "
   ]
  },
  {
   "cell_type": "markdown",
   "id": "93a206f9-c443-453a-9151-b5e9378df7e3",
   "metadata": {},
   "source": [
    "<ol style=\"color:#FF6347; font-weight:bold; background-color:#2F2F2F; padding:20px; border-radius:5px;\"><b> \n",
    "   <li>Fix Data Types</li>\n",
    "     <br>\n",
    "  <li>Data Type Conversion</li>\n",
    "    <br>\n",
    "    <li>Handling Missing Values</li>\n",
    "    <br>\n",
    " </ol>"
   ]
  },
  {
   "cell_type": "code",
   "execution_count": 6,
   "id": "113a86ad-88aa-4cb1-98ef-a97594c72e34",
   "metadata": {},
   "outputs": [
    {
     "data": {
      "text/html": [
       "<div>\n",
       "<style scoped>\n",
       "    .dataframe tbody tr th:only-of-type {\n",
       "        vertical-align: middle;\n",
       "    }\n",
       "\n",
       "    .dataframe tbody tr th {\n",
       "        vertical-align: top;\n",
       "    }\n",
       "\n",
       "    .dataframe thead th {\n",
       "        text-align: right;\n",
       "    }\n",
       "</style>\n",
       "<table border=\"1\" class=\"dataframe\">\n",
       "  <thead>\n",
       "    <tr style=\"text-align: right;\">\n",
       "      <th></th>\n",
       "      <th>Invoice ID</th>\n",
       "      <th>Branch</th>\n",
       "      <th>Yangon</th>\n",
       "      <th>Naypyitaw</th>\n",
       "      <th>Mandalay</th>\n",
       "      <th>Customer type</th>\n",
       "      <th>Gender</th>\n",
       "      <th>Product line</th>\n",
       "      <th>Unit price</th>\n",
       "      <th>Quantity</th>\n",
       "      <th>Tax 5%</th>\n",
       "      <th>Total</th>\n",
       "      <th>Date</th>\n",
       "      <th>Time</th>\n",
       "      <th>Payment</th>\n",
       "      <th>Rating</th>\n",
       "    </tr>\n",
       "  </thead>\n",
       "  <tbody>\n",
       "    <tr>\n",
       "      <th>0</th>\n",
       "      <td>750-67-8428</td>\n",
       "      <td>A</td>\n",
       "      <td>1</td>\n",
       "      <td>0</td>\n",
       "      <td>0</td>\n",
       "      <td>Normal</td>\n",
       "      <td>Male</td>\n",
       "      <td>Health and beauty</td>\n",
       "      <td>74.69</td>\n",
       "      <td>7</td>\n",
       "      <td>26.1415</td>\n",
       "      <td>NaN</td>\n",
       "      <td>1/5/2019</td>\n",
       "      <td>13:08</td>\n",
       "      <td>Ewallet</td>\n",
       "      <td>9.1</td>\n",
       "    </tr>\n",
       "    <tr>\n",
       "      <th>1</th>\n",
       "      <td>226-31-3081</td>\n",
       "      <td>C</td>\n",
       "      <td>0</td>\n",
       "      <td>1</td>\n",
       "      <td>0</td>\n",
       "      <td>Normal</td>\n",
       "      <td>Male</td>\n",
       "      <td>Electronic accessories</td>\n",
       "      <td>15.28</td>\n",
       "      <td>5</td>\n",
       "      <td>3.8200</td>\n",
       "      <td>80.2200</td>\n",
       "      <td>3/8/2019</td>\n",
       "      <td>10:29</td>\n",
       "      <td>Cash</td>\n",
       "      <td>9.6</td>\n",
       "    </tr>\n",
       "    <tr>\n",
       "      <th>2</th>\n",
       "      <td>631-41-3108</td>\n",
       "      <td>A</td>\n",
       "      <td>1</td>\n",
       "      <td>0</td>\n",
       "      <td>0</td>\n",
       "      <td>Normal</td>\n",
       "      <td>Male</td>\n",
       "      <td>Home and lifestyle</td>\n",
       "      <td>46.33</td>\n",
       "      <td>7</td>\n",
       "      <td>16.2155</td>\n",
       "      <td>340.5255</td>\n",
       "      <td>3/3/2019</td>\n",
       "      <td>13:23</td>\n",
       "      <td>Credit card</td>\n",
       "      <td>7.4</td>\n",
       "    </tr>\n",
       "    <tr>\n",
       "      <th>3</th>\n",
       "      <td>123-19-1176</td>\n",
       "      <td>A</td>\n",
       "      <td>1</td>\n",
       "      <td>0</td>\n",
       "      <td>0</td>\n",
       "      <td>Normal</td>\n",
       "      <td>Male</td>\n",
       "      <td>Health and beauty</td>\n",
       "      <td>58.22</td>\n",
       "      <td>8</td>\n",
       "      <td>NaN</td>\n",
       "      <td>489.0480</td>\n",
       "      <td>1/27/2019</td>\n",
       "      <td>8 - 30 PM</td>\n",
       "      <td>Ewallet</td>\n",
       "      <td>8.4</td>\n",
       "    </tr>\n",
       "  </tbody>\n",
       "</table>\n",
       "</div>"
      ],
      "text/plain": [
       "    Invoice ID Branch  Yangon  Naypyitaw  Mandalay Customer type Gender  \\\n",
       "0  750-67-8428      A       1          0         0        Normal   Male   \n",
       "1  226-31-3081      C       0          1         0        Normal   Male   \n",
       "2  631-41-3108      A       1          0         0        Normal   Male   \n",
       "3  123-19-1176      A       1          0         0        Normal   Male   \n",
       "\n",
       "             Product line Unit price  Quantity   Tax 5%     Total       Date  \\\n",
       "0       Health and beauty      74.69         7  26.1415       NaN   1/5/2019   \n",
       "1  Electronic accessories      15.28         5   3.8200   80.2200   3/8/2019   \n",
       "2      Home and lifestyle      46.33         7  16.2155  340.5255   3/3/2019   \n",
       "3       Health and beauty      58.22         8      NaN  489.0480  1/27/2019   \n",
       "\n",
       "        Time      Payment  Rating  \n",
       "0      13:08      Ewallet     9.1  \n",
       "1      10:29         Cash     9.6  \n",
       "2      13:23  Credit card     7.4  \n",
       "3  8 - 30 PM      Ewallet     8.4  "
      ]
     },
     "execution_count": 6,
     "metadata": {},
     "output_type": "execute_result"
    }
   ],
   "source": [
    "# Backing Up Data\n",
    "df_clean = df.copy()\n",
    "df_clean.head(4)"
   ]
  },
  {
   "cell_type": "markdown",
   "id": "3d9de478-a13a-422c-9a98-aef23ef5b1cb",
   "metadata": {},
   "source": [
    "<h3 style=\"color:#FF6347; font-size:22px; font-weight:bold; background-color:#2F2F2F; padding:5px; border-radius:5px;\"\">1-Fix Data Types</h3>"
   ]
  },
  {
   "cell_type": "markdown",
   "id": "91c7c068-3e5d-4ec7-998f-0f0de34f6690",
   "metadata": {},
   "source": [
    "##### <span style=\"color:orange\">ensuring that each column in a DataFrame has the correct data type."
   ]
  },
  {
   "cell_type": "code",
   "execution_count": 7,
   "id": "070d4403-b085-4a1b-a86b-e0f8a91a2bfd",
   "metadata": {},
   "outputs": [
    {
     "data": {
      "text/plain": [
       "array(['Normal', '-', 'Member', 'Memberr'], dtype=object)"
      ]
     },
     "execution_count": 7,
     "metadata": {},
     "output_type": "execute_result"
    }
   ],
   "source": [
    "# \"Unique\" means distinct, different, or not repeated in a dataset.\n",
    "df_clean['Customer type'].unique()"
   ]
  },
  {
   "cell_type": "markdown",
   "id": "6cd9fe79-f2d6-4140-8311-f8cf070398d5",
   "metadata": {},
   "source": [
    "##### <span style=\"color:orange\">\"There are incorrect values in the data ('-' , 'Memberr').\""
   ]
  },
  {
   "cell_type": "markdown",
   "id": "266d64c6-dfa2-4887-8f90-f42a8df85603",
   "metadata": {},
   "source": [
    "<h3 style=\"color:#FF6347; font-size:22px;\"> 1. replace (Memberr)</h3>"
   ]
  },
  {
   "cell_type": "markdown",
   "id": "37dcd48e-7fba-44bb-9f02-630338c39479",
   "metadata": {},
   "source": [
    "##### <span style=\"color:orange\">\"We will replace ('Memberr') with ('Member').\""
   ]
  },
  {
   "cell_type": "code",
   "execution_count": 8,
   "id": "d64ab501-677c-4173-8f7f-f79e69855e75",
   "metadata": {},
   "outputs": [],
   "source": [
    "#\"Replace\" means to change or substitute one thing with another.\n",
    "df_clean['Customer type'] = df_clean['Customer type'].replace('Memberr' , 'Member')"
   ]
  },
  {
   "cell_type": "code",
   "execution_count": 9,
   "id": "b4888956-a93f-43bc-84ea-e067d8d2d4f0",
   "metadata": {},
   "outputs": [
    {
     "data": {
      "text/plain": [
       "array(['Normal', '-', 'Member'], dtype=object)"
      ]
     },
     "execution_count": 9,
     "metadata": {},
     "output_type": "execute_result"
    }
   ],
   "source": [
    "df_clean['Customer type'].unique()"
   ]
  },
  {
   "cell_type": "markdown",
   "id": "ce2f28b3-fe3e-4058-a6c3-2d869f6db0bd",
   "metadata": {},
   "source": [
    "<h3 style=\"color:#FF6347; font-size:22px;\">2. Replace ('-')"
   ]
  },
  {
   "cell_type": "markdown",
   "id": "16ad5a7d-df1b-4390-a35e-d85d30cdef89",
   "metadata": {},
   "source": [
    "##### <span style=\"color:orange\"> Replacing '-' with the most common value (Mode)."
   ]
  },
  {
   "cell_type": "code",
   "execution_count": 10,
   "id": "c0eca5bc-af37-47ac-a639-fe3d8fdf86b1",
   "metadata": {},
   "outputs": [
    {
     "data": {
      "text/plain": [
       "Customer type\n",
       "Normal    515\n",
       "Member    464\n",
       "-          27\n",
       "Name: count, dtype: int64"
      ]
     },
     "execution_count": 10,
     "metadata": {},
     "output_type": "execute_result"
    }
   ],
   "source": [
    "df_clean['Customer type'].value_counts()"
   ]
  },
  {
   "cell_type": "markdown",
   "id": "95fa6dd1-e684-4c56-ba58-65bd397db049",
   "metadata": {},
   "source": [
    "##### <span style=\"color:orange\">\"Normal\" is the most common value."
   ]
  },
  {
   "cell_type": "code",
   "execution_count": 11,
   "id": "1e16ae92-0091-4e52-a8a8-fdac827297eb",
   "metadata": {},
   "outputs": [],
   "source": [
    "df_clean['Customer type'] = df_clean['Customer type'].replace('-','Normal')"
   ]
  },
  {
   "cell_type": "code",
   "execution_count": 12,
   "id": "072f0477-457d-42aa-9a5e-730c01d3b70a",
   "metadata": {},
   "outputs": [
    {
     "data": {
      "text/plain": [
       "Customer type\n",
       "Normal    542\n",
       "Member    464\n",
       "Name: count, dtype: int64"
      ]
     },
     "execution_count": 12,
     "metadata": {},
     "output_type": "execute_result"
    }
   ],
   "source": [
    "df_clean['Customer type'].value_counts()"
   ]
  },
  {
   "cell_type": "markdown",
   "id": "9cb236ae-b399-4cde-87dc-1f17dd4e68d0",
   "metadata": {},
   "source": [
    "<h3 style=\"color:#FF6347; font-size:22px;\">3.Fix Quantity (Negative Values)"
   ]
  },
  {
   "cell_type": "code",
   "execution_count": 13,
   "id": "5e42b257-ca94-4659-b6f3-ef41364e196d",
   "metadata": {},
   "outputs": [
    {
     "data": {
      "text/html": [
       "<div>\n",
       "<style scoped>\n",
       "    .dataframe tbody tr th:only-of-type {\n",
       "        vertical-align: middle;\n",
       "    }\n",
       "\n",
       "    .dataframe tbody tr th {\n",
       "        vertical-align: top;\n",
       "    }\n",
       "\n",
       "    .dataframe thead th {\n",
       "        text-align: right;\n",
       "    }\n",
       "</style>\n",
       "<table border=\"1\" class=\"dataframe\">\n",
       "  <thead>\n",
       "    <tr style=\"text-align: right;\">\n",
       "      <th></th>\n",
       "      <th>Invoice ID</th>\n",
       "      <th>Branch</th>\n",
       "      <th>Yangon</th>\n",
       "      <th>Naypyitaw</th>\n",
       "      <th>Mandalay</th>\n",
       "      <th>Customer type</th>\n",
       "      <th>Gender</th>\n",
       "      <th>Product line</th>\n",
       "      <th>Unit price</th>\n",
       "      <th>Quantity</th>\n",
       "      <th>Tax 5%</th>\n",
       "      <th>Total</th>\n",
       "      <th>Date</th>\n",
       "      <th>Time</th>\n",
       "      <th>Payment</th>\n",
       "      <th>Rating</th>\n",
       "    </tr>\n",
       "  </thead>\n",
       "  <tbody>\n",
       "    <tr>\n",
       "      <th>629</th>\n",
       "      <td>308-39-1707</td>\n",
       "      <td>A</td>\n",
       "      <td>1</td>\n",
       "      <td>0</td>\n",
       "      <td>0</td>\n",
       "      <td>Normal</td>\n",
       "      <td>Female</td>\n",
       "      <td>Fashion accessories</td>\n",
       "      <td>12.09 USD</td>\n",
       "      <td>-1</td>\n",
       "      <td>NaN</td>\n",
       "      <td>12.6945</td>\n",
       "      <td>1/26/2019</td>\n",
       "      <td>18:19</td>\n",
       "      <td>Credit card</td>\n",
       "      <td>8.2</td>\n",
       "    </tr>\n",
       "    <tr>\n",
       "      <th>830</th>\n",
       "      <td>237-44-6163</td>\n",
       "      <td>A</td>\n",
       "      <td>1</td>\n",
       "      <td>0</td>\n",
       "      <td>0</td>\n",
       "      <td>Normal</td>\n",
       "      <td>Male</td>\n",
       "      <td>Electronic accessories</td>\n",
       "      <td>10.56 USD</td>\n",
       "      <td>-8</td>\n",
       "      <td>NaN</td>\n",
       "      <td>88.7040</td>\n",
       "      <td>1/24/2019</td>\n",
       "      <td>17:43</td>\n",
       "      <td>Cash</td>\n",
       "      <td>7.6</td>\n",
       "    </tr>\n",
       "    <tr>\n",
       "      <th>881</th>\n",
       "      <td>115-38-7388</td>\n",
       "      <td>C</td>\n",
       "      <td>0</td>\n",
       "      <td>1</td>\n",
       "      <td>0</td>\n",
       "      <td>Member</td>\n",
       "      <td>Female</td>\n",
       "      <td>Fashion accessories</td>\n",
       "      <td>10.18 USD</td>\n",
       "      <td>-8</td>\n",
       "      <td>NaN</td>\n",
       "      <td>85.5120</td>\n",
       "      <td>3/30/2019</td>\n",
       "      <td>12:51</td>\n",
       "      <td>Credit card</td>\n",
       "      <td>9.5</td>\n",
       "    </tr>\n",
       "    <tr>\n",
       "      <th>903</th>\n",
       "      <td>865-41-9075</td>\n",
       "      <td>A</td>\n",
       "      <td>1</td>\n",
       "      <td>0</td>\n",
       "      <td>0</td>\n",
       "      <td>Normal</td>\n",
       "      <td>Male</td>\n",
       "      <td>Food and beverages</td>\n",
       "      <td>11.53 USD</td>\n",
       "      <td>-7</td>\n",
       "      <td>NaN</td>\n",
       "      <td>84.7455</td>\n",
       "      <td>1/28/2019</td>\n",
       "      <td>17:35</td>\n",
       "      <td>Cash</td>\n",
       "      <td>8.1</td>\n",
       "    </tr>\n",
       "  </tbody>\n",
       "</table>\n",
       "</div>"
      ],
      "text/plain": [
       "      Invoice ID Branch  Yangon  Naypyitaw  Mandalay Customer type  Gender  \\\n",
       "629  308-39-1707      A       1          0         0        Normal  Female   \n",
       "830  237-44-6163      A       1          0         0        Normal    Male   \n",
       "881  115-38-7388      C       0          1         0        Member  Female   \n",
       "903  865-41-9075      A       1          0         0        Normal    Male   \n",
       "\n",
       "               Product line Unit price  Quantity  Tax 5%    Total       Date  \\\n",
       "629     Fashion accessories  12.09 USD        -1     NaN  12.6945  1/26/2019   \n",
       "830  Electronic accessories  10.56 USD        -8     NaN  88.7040  1/24/2019   \n",
       "881     Fashion accessories  10.18 USD        -8     NaN  85.5120  3/30/2019   \n",
       "903      Food and beverages  11.53 USD        -7     NaN  84.7455  1/28/2019   \n",
       "\n",
       "      Time      Payment  Rating  \n",
       "629  18:19  Credit card     8.2  \n",
       "830  17:43         Cash     7.6  \n",
       "881  12:51  Credit card     9.5  \n",
       "903  17:35         Cash     8.1  "
      ]
     },
     "execution_count": 13,
     "metadata": {},
     "output_type": "execute_result"
    }
   ],
   "source": [
    "df_clean[df_clean['Quantity'] < 0]"
   ]
  },
  {
   "cell_type": "markdown",
   "id": "a3dafacb-8258-4d21-abd8-f2e3ba16e2bc",
   "metadata": {},
   "source": [
    "##### <span style=\"color:orange\">We will replace (-8) with (8)"
   ]
  },
  {
   "cell_type": "code",
   "execution_count": 14,
   "id": "f5f043d1-6769-4e26-8c99-91925a92bf27",
   "metadata": {},
   "outputs": [],
   "source": [
    "df_clean['Quantity'] = df_clean['Quantity'].replace(-8 , 8)"
   ]
  },
  {
   "cell_type": "markdown",
   "id": "a5b54b58-23c7-4393-be84-2f8fff5adf99",
   "metadata": {},
   "source": [
    "##### <span style=\"color:orange\">We will replace (-1) with (1)"
   ]
  },
  {
   "cell_type": "code",
   "execution_count": 15,
   "id": "22f04a7e-51b5-42ed-95de-6ceef0a88f48",
   "metadata": {},
   "outputs": [],
   "source": [
    "df_clean['Quantity'] = df_clean['Quantity'].replace(-1 , 1)"
   ]
  },
  {
   "cell_type": "markdown",
   "id": "df372d10-7e2f-4ede-8f03-3516df7c66bd",
   "metadata": {},
   "source": [
    "##### <span style=\"color:orange\">We will replace (-7) with (7)"
   ]
  },
  {
   "cell_type": "code",
   "execution_count": 16,
   "id": "75eac412-09cc-4790-871c-97a6aee3d1c3",
   "metadata": {},
   "outputs": [],
   "source": [
    "df_clean['Quantity'] = df_clean['Quantity'].replace(-7 , 7)"
   ]
  },
  {
   "cell_type": "code",
   "execution_count": 17,
   "id": "3dad461b-a151-4986-9d3a-c1d2e0bb627e",
   "metadata": {},
   "outputs": [
    {
     "data": {
      "text/html": [
       "<div>\n",
       "<style scoped>\n",
       "    .dataframe tbody tr th:only-of-type {\n",
       "        vertical-align: middle;\n",
       "    }\n",
       "\n",
       "    .dataframe tbody tr th {\n",
       "        vertical-align: top;\n",
       "    }\n",
       "\n",
       "    .dataframe thead th {\n",
       "        text-align: right;\n",
       "    }\n",
       "</style>\n",
       "<table border=\"1\" class=\"dataframe\">\n",
       "  <thead>\n",
       "    <tr style=\"text-align: right;\">\n",
       "      <th></th>\n",
       "      <th>Invoice ID</th>\n",
       "      <th>Branch</th>\n",
       "      <th>Yangon</th>\n",
       "      <th>Naypyitaw</th>\n",
       "      <th>Mandalay</th>\n",
       "      <th>Customer type</th>\n",
       "      <th>Gender</th>\n",
       "      <th>Product line</th>\n",
       "      <th>Unit price</th>\n",
       "      <th>Quantity</th>\n",
       "      <th>Tax 5%</th>\n",
       "      <th>Total</th>\n",
       "      <th>Date</th>\n",
       "      <th>Time</th>\n",
       "      <th>Payment</th>\n",
       "      <th>Rating</th>\n",
       "    </tr>\n",
       "  </thead>\n",
       "  <tbody>\n",
       "  </tbody>\n",
       "</table>\n",
       "</div>"
      ],
      "text/plain": [
       "Empty DataFrame\n",
       "Columns: [Invoice ID, Branch, Yangon, Naypyitaw, Mandalay, Customer type, Gender, Product line, Unit price, Quantity, Tax 5%, Total, Date, Time, Payment, Rating]\n",
       "Index: []"
      ]
     },
     "execution_count": 17,
     "metadata": {},
     "output_type": "execute_result"
    }
   ],
   "source": [
    "df_clean[df_clean['Quantity'] < 0]"
   ]
  },
  {
   "cell_type": "markdown",
   "id": "766871c7-d98e-4ae2-acc8-6a98b54b791d",
   "metadata": {},
   "source": [
    "<h3 style=\"color:#FF6347; font-size:22px;\">4.Fix Rating(Values greater than 10)"
   ]
  },
  {
   "cell_type": "code",
   "execution_count": 18,
   "id": "3c480d28-caf8-4bc1-bf86-37e55a973c9e",
   "metadata": {},
   "outputs": [
    {
     "data": {
      "text/html": [
       "<div>\n",
       "<style scoped>\n",
       "    .dataframe tbody tr th:only-of-type {\n",
       "        vertical-align: middle;\n",
       "    }\n",
       "\n",
       "    .dataframe tbody tr th {\n",
       "        vertical-align: top;\n",
       "    }\n",
       "\n",
       "    .dataframe thead th {\n",
       "        text-align: right;\n",
       "    }\n",
       "</style>\n",
       "<table border=\"1\" class=\"dataframe\">\n",
       "  <thead>\n",
       "    <tr style=\"text-align: right;\">\n",
       "      <th></th>\n",
       "      <th>Invoice ID</th>\n",
       "      <th>Branch</th>\n",
       "      <th>Yangon</th>\n",
       "      <th>Naypyitaw</th>\n",
       "      <th>Mandalay</th>\n",
       "      <th>Customer type</th>\n",
       "      <th>Gender</th>\n",
       "      <th>Product line</th>\n",
       "      <th>Unit price</th>\n",
       "      <th>Quantity</th>\n",
       "      <th>Tax 5%</th>\n",
       "      <th>Total</th>\n",
       "      <th>Date</th>\n",
       "      <th>Time</th>\n",
       "      <th>Payment</th>\n",
       "      <th>Rating</th>\n",
       "    </tr>\n",
       "  </thead>\n",
       "  <tbody>\n",
       "    <tr>\n",
       "      <th>157</th>\n",
       "      <td>307-85-2293</td>\n",
       "      <td>B</td>\n",
       "      <td>0</td>\n",
       "      <td>0</td>\n",
       "      <td>1</td>\n",
       "      <td>Normal</td>\n",
       "      <td>Male</td>\n",
       "      <td>Home and lifestyle</td>\n",
       "      <td>50.28</td>\n",
       "      <td>5</td>\n",
       "      <td>12.57</td>\n",
       "      <td>263.97</td>\n",
       "      <td>3/7/2019</td>\n",
       "      <td>13:58</td>\n",
       "      <td>Ewallet</td>\n",
       "      <td>97.0</td>\n",
       "    </tr>\n",
       "  </tbody>\n",
       "</table>\n",
       "</div>"
      ],
      "text/plain": [
       "      Invoice ID Branch  Yangon  Naypyitaw  Mandalay Customer type Gender  \\\n",
       "157  307-85-2293      B       0          0         1        Normal   Male   \n",
       "\n",
       "           Product line Unit price  Quantity  Tax 5%   Total      Date   Time  \\\n",
       "157  Home and lifestyle      50.28         5   12.57  263.97  3/7/2019  13:58   \n",
       "\n",
       "     Payment  Rating  \n",
       "157  Ewallet    97.0  "
      ]
     },
     "execution_count": 18,
     "metadata": {},
     "output_type": "execute_result"
    }
   ],
   "source": [
    "# Show Values greater than 10\n",
    "df_clean[df_clean['Rating'] > 10]"
   ]
  },
  {
   "cell_type": "code",
   "execution_count": 19,
   "id": "86655fa1-e19e-4623-885c-187924534098",
   "metadata": {},
   "outputs": [],
   "source": [
    "# Keep only valid values\n",
    "df_clean = df_clean[df_clean['Rating'] <= 10]"
   ]
  },
  {
   "cell_type": "code",
   "execution_count": 20,
   "id": "b0f39ca7-2efa-4f6d-ab75-e00510eca2a8",
   "metadata": {},
   "outputs": [
    {
     "data": {
      "text/html": [
       "<div>\n",
       "<style scoped>\n",
       "    .dataframe tbody tr th:only-of-type {\n",
       "        vertical-align: middle;\n",
       "    }\n",
       "\n",
       "    .dataframe tbody tr th {\n",
       "        vertical-align: top;\n",
       "    }\n",
       "\n",
       "    .dataframe thead th {\n",
       "        text-align: right;\n",
       "    }\n",
       "</style>\n",
       "<table border=\"1\" class=\"dataframe\">\n",
       "  <thead>\n",
       "    <tr style=\"text-align: right;\">\n",
       "      <th></th>\n",
       "      <th>Invoice ID</th>\n",
       "      <th>Branch</th>\n",
       "      <th>Yangon</th>\n",
       "      <th>Naypyitaw</th>\n",
       "      <th>Mandalay</th>\n",
       "      <th>Customer type</th>\n",
       "      <th>Gender</th>\n",
       "      <th>Product line</th>\n",
       "      <th>Unit price</th>\n",
       "      <th>Quantity</th>\n",
       "      <th>Tax 5%</th>\n",
       "      <th>Total</th>\n",
       "      <th>Date</th>\n",
       "      <th>Time</th>\n",
       "      <th>Payment</th>\n",
       "      <th>Rating</th>\n",
       "    </tr>\n",
       "  </thead>\n",
       "  <tbody>\n",
       "  </tbody>\n",
       "</table>\n",
       "</div>"
      ],
      "text/plain": [
       "Empty DataFrame\n",
       "Columns: [Invoice ID, Branch, Yangon, Naypyitaw, Mandalay, Customer type, Gender, Product line, Unit price, Quantity, Tax 5%, Total, Date, Time, Payment, Rating]\n",
       "Index: []"
      ]
     },
     "execution_count": 20,
     "metadata": {},
     "output_type": "execute_result"
    }
   ],
   "source": [
    "df_clean[df_clean['Rating'] > 10]"
   ]
  },
  {
   "cell_type": "markdown",
   "id": "d3d2fc99-6e6b-432c-8ed3-c7607e94498b",
   "metadata": {},
   "source": [
    "<h3 style=\"color:#FF6347; font-size:22px;\">5-Combine the cities into a single column named \"City\""
   ]
  },
  {
   "cell_type": "code",
   "execution_count": 21,
   "id": "ea15369d-e6d8-4839-8280-c6a0a49f1da6",
   "metadata": {},
   "outputs": [],
   "source": [
    "df_clean[\"City\"] = df_clean[[\"Yangon\", \"Naypyitaw\", \"Mandalay\"]].idxmax(axis=1)"
   ]
  },
  {
   "cell_type": "code",
   "execution_count": 22,
   "id": "595c3c1f-1991-4e5b-ab29-4dd264e2bc46",
   "metadata": {},
   "outputs": [],
   "source": [
    "df_clean.drop([\"Yangon\", \"Naypyitaw\", \"Mandalay\"], axis=1, inplace=True)"
   ]
  },
  {
   "cell_type": "code",
   "execution_count": 23,
   "id": "2dd6aa03-81dc-459a-970e-b92831b6601f",
   "metadata": {},
   "outputs": [
    {
     "data": {
      "text/html": [
       "<div>\n",
       "<style scoped>\n",
       "    .dataframe tbody tr th:only-of-type {\n",
       "        vertical-align: middle;\n",
       "    }\n",
       "\n",
       "    .dataframe tbody tr th {\n",
       "        vertical-align: top;\n",
       "    }\n",
       "\n",
       "    .dataframe thead th {\n",
       "        text-align: right;\n",
       "    }\n",
       "</style>\n",
       "<table border=\"1\" class=\"dataframe\">\n",
       "  <thead>\n",
       "    <tr style=\"text-align: right;\">\n",
       "      <th></th>\n",
       "      <th>Invoice ID</th>\n",
       "      <th>Branch</th>\n",
       "      <th>Customer type</th>\n",
       "      <th>Gender</th>\n",
       "      <th>Product line</th>\n",
       "      <th>Unit price</th>\n",
       "      <th>Quantity</th>\n",
       "      <th>Tax 5%</th>\n",
       "      <th>Total</th>\n",
       "      <th>Date</th>\n",
       "      <th>Time</th>\n",
       "      <th>Payment</th>\n",
       "      <th>Rating</th>\n",
       "      <th>City</th>\n",
       "    </tr>\n",
       "  </thead>\n",
       "  <tbody>\n",
       "    <tr>\n",
       "      <th>0</th>\n",
       "      <td>750-67-8428</td>\n",
       "      <td>A</td>\n",
       "      <td>Normal</td>\n",
       "      <td>Male</td>\n",
       "      <td>Health and beauty</td>\n",
       "      <td>74.69</td>\n",
       "      <td>7</td>\n",
       "      <td>26.1415</td>\n",
       "      <td>NaN</td>\n",
       "      <td>1/5/2019</td>\n",
       "      <td>13:08</td>\n",
       "      <td>Ewallet</td>\n",
       "      <td>9.1</td>\n",
       "      <td>Yangon</td>\n",
       "    </tr>\n",
       "    <tr>\n",
       "      <th>1</th>\n",
       "      <td>226-31-3081</td>\n",
       "      <td>C</td>\n",
       "      <td>Normal</td>\n",
       "      <td>Male</td>\n",
       "      <td>Electronic accessories</td>\n",
       "      <td>15.28</td>\n",
       "      <td>5</td>\n",
       "      <td>3.8200</td>\n",
       "      <td>80.2200</td>\n",
       "      <td>3/8/2019</td>\n",
       "      <td>10:29</td>\n",
       "      <td>Cash</td>\n",
       "      <td>9.6</td>\n",
       "      <td>Naypyitaw</td>\n",
       "    </tr>\n",
       "    <tr>\n",
       "      <th>2</th>\n",
       "      <td>631-41-3108</td>\n",
       "      <td>A</td>\n",
       "      <td>Normal</td>\n",
       "      <td>Male</td>\n",
       "      <td>Home and lifestyle</td>\n",
       "      <td>46.33</td>\n",
       "      <td>7</td>\n",
       "      <td>16.2155</td>\n",
       "      <td>340.5255</td>\n",
       "      <td>3/3/2019</td>\n",
       "      <td>13:23</td>\n",
       "      <td>Credit card</td>\n",
       "      <td>7.4</td>\n",
       "      <td>Yangon</td>\n",
       "    </tr>\n",
       "    <tr>\n",
       "      <th>3</th>\n",
       "      <td>123-19-1176</td>\n",
       "      <td>A</td>\n",
       "      <td>Normal</td>\n",
       "      <td>Male</td>\n",
       "      <td>Health and beauty</td>\n",
       "      <td>58.22</td>\n",
       "      <td>8</td>\n",
       "      <td>NaN</td>\n",
       "      <td>489.0480</td>\n",
       "      <td>1/27/2019</td>\n",
       "      <td>8 - 30 PM</td>\n",
       "      <td>Ewallet</td>\n",
       "      <td>8.4</td>\n",
       "      <td>Yangon</td>\n",
       "    </tr>\n",
       "    <tr>\n",
       "      <th>4</th>\n",
       "      <td>373-73-7910</td>\n",
       "      <td>A</td>\n",
       "      <td>Normal</td>\n",
       "      <td>Male</td>\n",
       "      <td>Sports and travel</td>\n",
       "      <td>86.31</td>\n",
       "      <td>7</td>\n",
       "      <td>30.2085</td>\n",
       "      <td>634.3785</td>\n",
       "      <td>2/8/2019</td>\n",
       "      <td>10:37</td>\n",
       "      <td>Ewallet</td>\n",
       "      <td>5.3</td>\n",
       "      <td>Yangon</td>\n",
       "    </tr>\n",
       "    <tr>\n",
       "      <th>...</th>\n",
       "      <td>...</td>\n",
       "      <td>...</td>\n",
       "      <td>...</td>\n",
       "      <td>...</td>\n",
       "      <td>...</td>\n",
       "      <td>...</td>\n",
       "      <td>...</td>\n",
       "      <td>...</td>\n",
       "      <td>...</td>\n",
       "      <td>...</td>\n",
       "      <td>...</td>\n",
       "      <td>...</td>\n",
       "      <td>...</td>\n",
       "      <td>...</td>\n",
       "    </tr>\n",
       "    <tr>\n",
       "      <th>1001</th>\n",
       "      <td>861-77-0145</td>\n",
       "      <td>C</td>\n",
       "      <td>Member</td>\n",
       "      <td>Male</td>\n",
       "      <td>Electronic accessories</td>\n",
       "      <td>81.97</td>\n",
       "      <td>10</td>\n",
       "      <td>40.9850</td>\n",
       "      <td>860.6850</td>\n",
       "      <td>3/3/2019</td>\n",
       "      <td>14:30</td>\n",
       "      <td>Cash</td>\n",
       "      <td>9.2</td>\n",
       "      <td>Naypyitaw</td>\n",
       "    </tr>\n",
       "    <tr>\n",
       "      <th>1002</th>\n",
       "      <td>479-26-8945</td>\n",
       "      <td>B</td>\n",
       "      <td>Member</td>\n",
       "      <td>Female</td>\n",
       "      <td>Sports and travel</td>\n",
       "      <td>16.49</td>\n",
       "      <td>2</td>\n",
       "      <td>1.6490</td>\n",
       "      <td>34.6290</td>\n",
       "      <td>2/5/2019</td>\n",
       "      <td>11:32</td>\n",
       "      <td>Ewallet</td>\n",
       "      <td>4.6</td>\n",
       "      <td>Mandalay</td>\n",
       "    </tr>\n",
       "    <tr>\n",
       "      <th>1003</th>\n",
       "      <td>210-67-5886</td>\n",
       "      <td>C</td>\n",
       "      <td>Member</td>\n",
       "      <td>Female</td>\n",
       "      <td>Health and beauty</td>\n",
       "      <td>98.21</td>\n",
       "      <td>3</td>\n",
       "      <td>14.7315</td>\n",
       "      <td>309.3615</td>\n",
       "      <td>2/5/2019</td>\n",
       "      <td>10:41</td>\n",
       "      <td>Credit card</td>\n",
       "      <td>7.8</td>\n",
       "      <td>Naypyitaw</td>\n",
       "    </tr>\n",
       "    <tr>\n",
       "      <th>1004</th>\n",
       "      <td>227-78-1148</td>\n",
       "      <td>B</td>\n",
       "      <td>Normal</td>\n",
       "      <td>Female</td>\n",
       "      <td>Fashion accessories</td>\n",
       "      <td>72.84</td>\n",
       "      <td>7</td>\n",
       "      <td>25.4940</td>\n",
       "      <td>535.3740</td>\n",
       "      <td>2/15/2019</td>\n",
       "      <td>12:44</td>\n",
       "      <td>Cash</td>\n",
       "      <td>8.4</td>\n",
       "      <td>Mandalay</td>\n",
       "    </tr>\n",
       "    <tr>\n",
       "      <th>1005</th>\n",
       "      <td>645-44-1170</td>\n",
       "      <td>A</td>\n",
       "      <td>Member</td>\n",
       "      <td>Male</td>\n",
       "      <td>Home and lifestyle</td>\n",
       "      <td>58.07</td>\n",
       "      <td>9</td>\n",
       "      <td>26.1315</td>\n",
       "      <td>548.7615</td>\n",
       "      <td>1/19/2019</td>\n",
       "      <td>20:07</td>\n",
       "      <td>Ewallet</td>\n",
       "      <td>4.3</td>\n",
       "      <td>Yangon</td>\n",
       "    </tr>\n",
       "  </tbody>\n",
       "</table>\n",
       "<p>1005 rows × 14 columns</p>\n",
       "</div>"
      ],
      "text/plain": [
       "       Invoice ID Branch Customer type  Gender            Product line  \\\n",
       "0     750-67-8428      A        Normal    Male       Health and beauty   \n",
       "1     226-31-3081      C        Normal    Male  Electronic accessories   \n",
       "2     631-41-3108      A        Normal    Male      Home and lifestyle   \n",
       "3     123-19-1176      A        Normal    Male       Health and beauty   \n",
       "4     373-73-7910      A        Normal    Male       Sports and travel   \n",
       "...           ...    ...           ...     ...                     ...   \n",
       "1001  861-77-0145      C        Member    Male  Electronic accessories   \n",
       "1002  479-26-8945      B        Member  Female       Sports and travel   \n",
       "1003  210-67-5886      C        Member  Female       Health and beauty   \n",
       "1004  227-78-1148      B        Normal  Female     Fashion accessories   \n",
       "1005  645-44-1170      A        Member    Male      Home and lifestyle   \n",
       "\n",
       "     Unit price  Quantity   Tax 5%     Total       Date       Time  \\\n",
       "0         74.69         7  26.1415       NaN   1/5/2019      13:08   \n",
       "1         15.28         5   3.8200   80.2200   3/8/2019      10:29   \n",
       "2         46.33         7  16.2155  340.5255   3/3/2019      13:23   \n",
       "3         58.22         8      NaN  489.0480  1/27/2019  8 - 30 PM   \n",
       "4         86.31         7  30.2085  634.3785   2/8/2019      10:37   \n",
       "...         ...       ...      ...       ...        ...        ...   \n",
       "1001      81.97        10  40.9850  860.6850   3/3/2019      14:30   \n",
       "1002      16.49         2   1.6490   34.6290   2/5/2019      11:32   \n",
       "1003      98.21         3  14.7315  309.3615   2/5/2019      10:41   \n",
       "1004      72.84         7  25.4940  535.3740  2/15/2019      12:44   \n",
       "1005      58.07         9  26.1315  548.7615  1/19/2019      20:07   \n",
       "\n",
       "          Payment  Rating       City  \n",
       "0         Ewallet     9.1     Yangon  \n",
       "1            Cash     9.6  Naypyitaw  \n",
       "2     Credit card     7.4     Yangon  \n",
       "3         Ewallet     8.4     Yangon  \n",
       "4         Ewallet     5.3     Yangon  \n",
       "...           ...     ...        ...  \n",
       "1001         Cash     9.2  Naypyitaw  \n",
       "1002      Ewallet     4.6   Mandalay  \n",
       "1003  Credit card     7.8  Naypyitaw  \n",
       "1004         Cash     8.4   Mandalay  \n",
       "1005      Ewallet     4.3     Yangon  \n",
       "\n",
       "[1005 rows x 14 columns]"
      ]
     },
     "execution_count": 23,
     "metadata": {},
     "output_type": "execute_result"
    }
   ],
   "source": [
    "df_clean"
   ]
  },
  {
   "cell_type": "markdown",
   "id": "a0a4ac5e-344f-4d86-ae83-e755f56fd4bd",
   "metadata": {},
   "source": [
    "<h3 style=\"color:#FF6347; font-size:22px; font-weight:bold; background-color:#2F2F2F; padding:5px; border-radius:5px;\"\">2-Data Type Conversion</h3>"
   ]
  },
  {
   "cell_type": "markdown",
   "id": "a62ecae5-c518-4658-9555-54505d70dd2e",
   "metadata": {},
   "source": [
    "##### <span style=\"color:orange\"> Data Type Conversion refers to the process of changing the data type of a variable or column in a dataset to another type. "
   ]
  },
  {
   "cell_type": "markdown",
   "id": "382d7471-5b0b-4109-9b30-e523164e4e70",
   "metadata": {},
   "source": [
    "<h3 style=\"color:#FF6347; font-size:22px;\"> 1. Unit Price (From Object to Float.)</h3>"
   ]
  },
  {
   "cell_type": "code",
   "execution_count": 24,
   "id": "13fec9c6-12eb-4659-937c-40fccae0929d",
   "metadata": {},
   "outputs": [
    {
     "name": "stdout",
     "output_type": "stream",
     "text": [
      "<class 'pandas.core.series.Series'>\n",
      "Index: 1005 entries, 0 to 1005\n",
      "Series name: Unit price\n",
      "Non-Null Count  Dtype \n",
      "--------------  ----- \n",
      "1005 non-null   object\n",
      "dtypes: object(1)\n",
      "memory usage: 15.7+ KB\n"
     ]
    }
   ],
   "source": [
    "df_clean['Unit price'].info()"
   ]
  },
  {
   "cell_type": "code",
   "execution_count": 25,
   "id": "83fba4e4-d7e9-4b2f-b056-d0a7afd2ed37",
   "metadata": {},
   "outputs": [
    {
     "data": {
      "text/html": [
       "<div>\n",
       "<style scoped>\n",
       "    .dataframe tbody tr th:only-of-type {\n",
       "        vertical-align: middle;\n",
       "    }\n",
       "\n",
       "    .dataframe tbody tr th {\n",
       "        vertical-align: top;\n",
       "    }\n",
       "\n",
       "    .dataframe thead th {\n",
       "        text-align: right;\n",
       "    }\n",
       "</style>\n",
       "<table border=\"1\" class=\"dataframe\">\n",
       "  <thead>\n",
       "    <tr style=\"text-align: right;\">\n",
       "      <th></th>\n",
       "      <th>Invoice ID</th>\n",
       "      <th>Branch</th>\n",
       "      <th>Customer type</th>\n",
       "      <th>Gender</th>\n",
       "      <th>Product line</th>\n",
       "      <th>Unit price</th>\n",
       "      <th>Quantity</th>\n",
       "      <th>Tax 5%</th>\n",
       "      <th>Total</th>\n",
       "      <th>Date</th>\n",
       "      <th>Time</th>\n",
       "      <th>Payment</th>\n",
       "      <th>Rating</th>\n",
       "      <th>City</th>\n",
       "    </tr>\n",
       "  </thead>\n",
       "  <tbody>\n",
       "    <tr>\n",
       "      <th>97</th>\n",
       "      <td>871-39-9221</td>\n",
       "      <td>C</td>\n",
       "      <td>Normal</td>\n",
       "      <td>Female</td>\n",
       "      <td>Electronic accessories</td>\n",
       "      <td>12.45 USD</td>\n",
       "      <td>6</td>\n",
       "      <td>NaN</td>\n",
       "      <td>78.4350</td>\n",
       "      <td>2/9/2019</td>\n",
       "      <td>13:11</td>\n",
       "      <td>Cash</td>\n",
       "      <td>4.1</td>\n",
       "      <td>Naypyitaw</td>\n",
       "    </tr>\n",
       "    <tr>\n",
       "      <th>629</th>\n",
       "      <td>308-39-1707</td>\n",
       "      <td>A</td>\n",
       "      <td>Normal</td>\n",
       "      <td>Female</td>\n",
       "      <td>Fashion accessories</td>\n",
       "      <td>12.09 USD</td>\n",
       "      <td>1</td>\n",
       "      <td>NaN</td>\n",
       "      <td>12.6945</td>\n",
       "      <td>1/26/2019</td>\n",
       "      <td>18:19</td>\n",
       "      <td>Credit card</td>\n",
       "      <td>8.2</td>\n",
       "      <td>Yangon</td>\n",
       "    </tr>\n",
       "    <tr>\n",
       "      <th>830</th>\n",
       "      <td>237-44-6163</td>\n",
       "      <td>A</td>\n",
       "      <td>Normal</td>\n",
       "      <td>Male</td>\n",
       "      <td>Electronic accessories</td>\n",
       "      <td>10.56 USD</td>\n",
       "      <td>8</td>\n",
       "      <td>NaN</td>\n",
       "      <td>88.7040</td>\n",
       "      <td>1/24/2019</td>\n",
       "      <td>17:43</td>\n",
       "      <td>Cash</td>\n",
       "      <td>7.6</td>\n",
       "      <td>Yangon</td>\n",
       "    </tr>\n",
       "    <tr>\n",
       "      <th>881</th>\n",
       "      <td>115-38-7388</td>\n",
       "      <td>C</td>\n",
       "      <td>Member</td>\n",
       "      <td>Female</td>\n",
       "      <td>Fashion accessories</td>\n",
       "      <td>10.18 USD</td>\n",
       "      <td>8</td>\n",
       "      <td>NaN</td>\n",
       "      <td>85.5120</td>\n",
       "      <td>3/30/2019</td>\n",
       "      <td>12:51</td>\n",
       "      <td>Credit card</td>\n",
       "      <td>9.5</td>\n",
       "      <td>Naypyitaw</td>\n",
       "    </tr>\n",
       "    <tr>\n",
       "      <th>903</th>\n",
       "      <td>865-41-9075</td>\n",
       "      <td>A</td>\n",
       "      <td>Normal</td>\n",
       "      <td>Male</td>\n",
       "      <td>Food and beverages</td>\n",
       "      <td>11.53 USD</td>\n",
       "      <td>7</td>\n",
       "      <td>NaN</td>\n",
       "      <td>84.7455</td>\n",
       "      <td>1/28/2019</td>\n",
       "      <td>17:35</td>\n",
       "      <td>Cash</td>\n",
       "      <td>8.1</td>\n",
       "      <td>Yangon</td>\n",
       "    </tr>\n",
       "  </tbody>\n",
       "</table>\n",
       "</div>"
      ],
      "text/plain": [
       "      Invoice ID Branch Customer type  Gender            Product line  \\\n",
       "97   871-39-9221      C        Normal  Female  Electronic accessories   \n",
       "629  308-39-1707      A        Normal  Female     Fashion accessories   \n",
       "830  237-44-6163      A        Normal    Male  Electronic accessories   \n",
       "881  115-38-7388      C        Member  Female     Fashion accessories   \n",
       "903  865-41-9075      A        Normal    Male      Food and beverages   \n",
       "\n",
       "    Unit price  Quantity  Tax 5%    Total       Date   Time      Payment  \\\n",
       "97   12.45 USD         6     NaN  78.4350   2/9/2019  13:11         Cash   \n",
       "629  12.09 USD         1     NaN  12.6945  1/26/2019  18:19  Credit card   \n",
       "830  10.56 USD         8     NaN  88.7040  1/24/2019  17:43         Cash   \n",
       "881  10.18 USD         8     NaN  85.5120  3/30/2019  12:51  Credit card   \n",
       "903  11.53 USD         7     NaN  84.7455  1/28/2019  17:35         Cash   \n",
       "\n",
       "     Rating       City  \n",
       "97      4.1  Naypyitaw  \n",
       "629     8.2     Yangon  \n",
       "830     7.6     Yangon  \n",
       "881     9.5  Naypyitaw  \n",
       "903     8.1     Yangon  "
      ]
     },
     "execution_count": 25,
     "metadata": {},
     "output_type": "execute_result"
    }
   ],
   "source": [
    "#This line of code identifies non-numeric values in the \"Unit price\" column of the df_clean DataFrame.\n",
    "df_clean[pd.to_numeric(df_clean['Unit price'], errors='coerce').isna()]"
   ]
  },
  {
   "cell_type": "code",
   "execution_count": 26,
   "id": "0ef7bda6-7781-45d8-bc66-ed40cfdf9ff4",
   "metadata": {},
   "outputs": [],
   "source": [
    "#This line removes \"USD\" from the \"Unit price\" column and converts it from a string to a float for numerical operations.\n",
    "df_clean['Unit price'] = df_clean['Unit price'].str.replace('USD', '', regex=True).astype(float)"
   ]
  },
  {
   "cell_type": "code",
   "execution_count": 27,
   "id": "2b2f90c9-489d-489f-8cc9-c15a0a5c9689",
   "metadata": {},
   "outputs": [
    {
     "name": "stdout",
     "output_type": "stream",
     "text": [
      "<class 'pandas.core.series.Series'>\n",
      "Index: 1005 entries, 0 to 1005\n",
      "Series name: Unit price\n",
      "Non-Null Count  Dtype  \n",
      "--------------  -----  \n",
      "1005 non-null   float64\n",
      "dtypes: float64(1)\n",
      "memory usage: 15.7 KB\n"
     ]
    }
   ],
   "source": [
    "df_clean['Unit price'].info()"
   ]
  },
  {
   "cell_type": "code",
   "execution_count": 28,
   "id": "1eaf9a83-c460-4ab9-9d98-654569896d18",
   "metadata": {},
   "outputs": [
    {
     "data": {
      "text/html": [
       "<div>\n",
       "<style scoped>\n",
       "    .dataframe tbody tr th:only-of-type {\n",
       "        vertical-align: middle;\n",
       "    }\n",
       "\n",
       "    .dataframe tbody tr th {\n",
       "        vertical-align: top;\n",
       "    }\n",
       "\n",
       "    .dataframe thead th {\n",
       "        text-align: right;\n",
       "    }\n",
       "</style>\n",
       "<table border=\"1\" class=\"dataframe\">\n",
       "  <thead>\n",
       "    <tr style=\"text-align: right;\">\n",
       "      <th></th>\n",
       "      <th>Invoice ID</th>\n",
       "      <th>Branch</th>\n",
       "      <th>Customer type</th>\n",
       "      <th>Gender</th>\n",
       "      <th>Product line</th>\n",
       "      <th>Unit price</th>\n",
       "      <th>Quantity</th>\n",
       "      <th>Tax 5%</th>\n",
       "      <th>Total</th>\n",
       "      <th>Date</th>\n",
       "      <th>Time</th>\n",
       "      <th>Payment</th>\n",
       "      <th>Rating</th>\n",
       "      <th>City</th>\n",
       "    </tr>\n",
       "  </thead>\n",
       "  <tbody>\n",
       "  </tbody>\n",
       "</table>\n",
       "</div>"
      ],
      "text/plain": [
       "Empty DataFrame\n",
       "Columns: [Invoice ID, Branch, Customer type, Gender, Product line, Unit price, Quantity, Tax 5%, Total, Date, Time, Payment, Rating, City]\n",
       "Index: []"
      ]
     },
     "execution_count": 28,
     "metadata": {},
     "output_type": "execute_result"
    }
   ],
   "source": [
    "df_clean[pd.to_numeric(df_clean['Unit price'], errors='coerce').isna()]"
   ]
  },
  {
   "cell_type": "markdown",
   "id": "6fe29aa3-0877-41f7-af34-eaea4c1deb0b",
   "metadata": {},
   "source": [
    "<h3 style=\"color:#FF6347; font-size:22px;\"> 2. Date (From Object to DateTime)</h3>"
   ]
  },
  {
   "cell_type": "code",
   "execution_count": 29,
   "id": "68a917d8-8f79-4258-8bb8-b1eec706d032",
   "metadata": {},
   "outputs": [
    {
     "name": "stdout",
     "output_type": "stream",
     "text": [
      "<class 'pandas.core.series.Series'>\n",
      "Index: 1005 entries, 0 to 1005\n",
      "Series name: Date\n",
      "Non-Null Count  Dtype \n",
      "--------------  ----- \n",
      "1005 non-null   object\n",
      "dtypes: object(1)\n",
      "memory usage: 15.7+ KB\n"
     ]
    }
   ],
   "source": [
    "df_clean['Date'].info()"
   ]
  },
  {
   "cell_type": "code",
   "execution_count": 30,
   "id": "5111e0fd-f5f4-41fd-888c-97a305b61700",
   "metadata": {},
   "outputs": [],
   "source": [
    "#To convert a Date column from object (string) to datetime format, use pd.to_datetime().\n",
    "df_clean['Date'] = pd.to_datetime(df_clean['Date'])"
   ]
  },
  {
   "cell_type": "code",
   "execution_count": 31,
   "id": "efde71b3-f7df-43ac-b62d-4917a778d3a5",
   "metadata": {},
   "outputs": [
    {
     "name": "stdout",
     "output_type": "stream",
     "text": [
      "<class 'pandas.core.series.Series'>\n",
      "Index: 1005 entries, 0 to 1005\n",
      "Series name: Date\n",
      "Non-Null Count  Dtype         \n",
      "--------------  -----         \n",
      "1005 non-null   datetime64[ns]\n",
      "dtypes: datetime64[ns](1)\n",
      "memory usage: 15.7 KB\n"
     ]
    }
   ],
   "source": [
    "df_clean['Date'].info()"
   ]
  },
  {
   "cell_type": "code",
   "execution_count": 32,
   "id": "47313e40-cfa1-4484-8eb5-e1c4de6c0ed6",
   "metadata": {},
   "outputs": [
    {
     "data": {
      "text/html": [
       "<div>\n",
       "<style scoped>\n",
       "    .dataframe tbody tr th:only-of-type {\n",
       "        vertical-align: middle;\n",
       "    }\n",
       "\n",
       "    .dataframe tbody tr th {\n",
       "        vertical-align: top;\n",
       "    }\n",
       "\n",
       "    .dataframe thead th {\n",
       "        text-align: right;\n",
       "    }\n",
       "</style>\n",
       "<table border=\"1\" class=\"dataframe\">\n",
       "  <thead>\n",
       "    <tr style=\"text-align: right;\">\n",
       "      <th></th>\n",
       "      <th>Invoice ID</th>\n",
       "      <th>Branch</th>\n",
       "      <th>Customer type</th>\n",
       "      <th>Gender</th>\n",
       "      <th>Product line</th>\n",
       "      <th>Unit price</th>\n",
       "      <th>Quantity</th>\n",
       "      <th>Tax 5%</th>\n",
       "      <th>Total</th>\n",
       "      <th>Date</th>\n",
       "      <th>Time</th>\n",
       "      <th>Payment</th>\n",
       "      <th>Rating</th>\n",
       "      <th>City</th>\n",
       "    </tr>\n",
       "  </thead>\n",
       "  <tbody>\n",
       "    <tr>\n",
       "      <th>0</th>\n",
       "      <td>750-67-8428</td>\n",
       "      <td>A</td>\n",
       "      <td>Normal</td>\n",
       "      <td>Male</td>\n",
       "      <td>Health and beauty</td>\n",
       "      <td>74.69</td>\n",
       "      <td>7</td>\n",
       "      <td>26.1415</td>\n",
       "      <td>NaN</td>\n",
       "      <td>2019-01-05</td>\n",
       "      <td>13:08</td>\n",
       "      <td>Ewallet</td>\n",
       "      <td>9.1</td>\n",
       "      <td>Yangon</td>\n",
       "    </tr>\n",
       "    <tr>\n",
       "      <th>1</th>\n",
       "      <td>226-31-3081</td>\n",
       "      <td>C</td>\n",
       "      <td>Normal</td>\n",
       "      <td>Male</td>\n",
       "      <td>Electronic accessories</td>\n",
       "      <td>15.28</td>\n",
       "      <td>5</td>\n",
       "      <td>3.8200</td>\n",
       "      <td>80.2200</td>\n",
       "      <td>2019-03-08</td>\n",
       "      <td>10:29</td>\n",
       "      <td>Cash</td>\n",
       "      <td>9.6</td>\n",
       "      <td>Naypyitaw</td>\n",
       "    </tr>\n",
       "    <tr>\n",
       "      <th>2</th>\n",
       "      <td>631-41-3108</td>\n",
       "      <td>A</td>\n",
       "      <td>Normal</td>\n",
       "      <td>Male</td>\n",
       "      <td>Home and lifestyle</td>\n",
       "      <td>46.33</td>\n",
       "      <td>7</td>\n",
       "      <td>16.2155</td>\n",
       "      <td>340.5255</td>\n",
       "      <td>2019-03-03</td>\n",
       "      <td>13:23</td>\n",
       "      <td>Credit card</td>\n",
       "      <td>7.4</td>\n",
       "      <td>Yangon</td>\n",
       "    </tr>\n",
       "    <tr>\n",
       "      <th>3</th>\n",
       "      <td>123-19-1176</td>\n",
       "      <td>A</td>\n",
       "      <td>Normal</td>\n",
       "      <td>Male</td>\n",
       "      <td>Health and beauty</td>\n",
       "      <td>58.22</td>\n",
       "      <td>8</td>\n",
       "      <td>NaN</td>\n",
       "      <td>489.0480</td>\n",
       "      <td>2019-01-27</td>\n",
       "      <td>8 - 30 PM</td>\n",
       "      <td>Ewallet</td>\n",
       "      <td>8.4</td>\n",
       "      <td>Yangon</td>\n",
       "    </tr>\n",
       "    <tr>\n",
       "      <th>4</th>\n",
       "      <td>373-73-7910</td>\n",
       "      <td>A</td>\n",
       "      <td>Normal</td>\n",
       "      <td>Male</td>\n",
       "      <td>Sports and travel</td>\n",
       "      <td>86.31</td>\n",
       "      <td>7</td>\n",
       "      <td>30.2085</td>\n",
       "      <td>634.3785</td>\n",
       "      <td>2019-02-08</td>\n",
       "      <td>10:37</td>\n",
       "      <td>Ewallet</td>\n",
       "      <td>5.3</td>\n",
       "      <td>Yangon</td>\n",
       "    </tr>\n",
       "  </tbody>\n",
       "</table>\n",
       "</div>"
      ],
      "text/plain": [
       "    Invoice ID Branch Customer type Gender            Product line  \\\n",
       "0  750-67-8428      A        Normal   Male       Health and beauty   \n",
       "1  226-31-3081      C        Normal   Male  Electronic accessories   \n",
       "2  631-41-3108      A        Normal   Male      Home and lifestyle   \n",
       "3  123-19-1176      A        Normal   Male       Health and beauty   \n",
       "4  373-73-7910      A        Normal   Male       Sports and travel   \n",
       "\n",
       "   Unit price  Quantity   Tax 5%     Total       Date       Time      Payment  \\\n",
       "0       74.69         7  26.1415       NaN 2019-01-05      13:08      Ewallet   \n",
       "1       15.28         5   3.8200   80.2200 2019-03-08      10:29         Cash   \n",
       "2       46.33         7  16.2155  340.5255 2019-03-03      13:23  Credit card   \n",
       "3       58.22         8      NaN  489.0480 2019-01-27  8 - 30 PM      Ewallet   \n",
       "4       86.31         7  30.2085  634.3785 2019-02-08      10:37      Ewallet   \n",
       "\n",
       "   Rating       City  \n",
       "0     9.1     Yangon  \n",
       "1     9.6  Naypyitaw  \n",
       "2     7.4     Yangon  \n",
       "3     8.4     Yangon  \n",
       "4     5.3     Yangon  "
      ]
     },
     "execution_count": 32,
     "metadata": {},
     "output_type": "execute_result"
    }
   ],
   "source": [
    "df_clean.head()"
   ]
  },
  {
   "cell_type": "markdown",
   "id": "bd2b019d-1a2c-48df-97c2-94d79723f7e4",
   "metadata": {},
   "source": [
    "<h3 style=\"color:#FF6347; font-size:22px;\">3.Time (From Object to DateTime)</h3>"
   ]
  },
  {
   "cell_type": "code",
   "execution_count": 33,
   "id": "ca67a0a0-54e8-4741-ab83-ce05775014b1",
   "metadata": {},
   "outputs": [
    {
     "name": "stdout",
     "output_type": "stream",
     "text": [
      "<class 'pandas.core.series.Series'>\n",
      "Index: 1005 entries, 0 to 1005\n",
      "Series name: Time\n",
      "Non-Null Count  Dtype \n",
      "--------------  ----- \n",
      "1005 non-null   object\n",
      "dtypes: object(1)\n",
      "memory usage: 15.7+ KB\n"
     ]
    }
   ],
   "source": [
    "df_clean['Time'].info()"
   ]
  },
  {
   "cell_type": "code",
   "execution_count": 34,
   "id": "7c3d0025-02c6-433c-8a25-50993220fc03",
   "metadata": {},
   "outputs": [],
   "source": [
    "#Time Formatting\n",
    "df_clean['Time'] = df_clean['Time'].str.replace(' - ', ':').str.strip()\n",
    "df_clean['Time'] = df_clean['Time'].str.replace('AM', '').str.replace('PM', '').str.strip()"
   ]
  },
  {
   "cell_type": "code",
   "execution_count": 35,
   "id": "af7fec8a-1652-420b-a6a1-2aeec3cf5ec1",
   "metadata": {},
   "outputs": [],
   "source": [
    "# To convert a Time column from object (string) to datetime format, use pd.to_datetime().\n",
    "df_clean['Time'] = pd.to_datetime(df_clean['Time'], format='%H:%M').dt.time"
   ]
  },
  {
   "cell_type": "code",
   "execution_count": 36,
   "id": "9b062b21-242e-4361-9368-c32b94400c38",
   "metadata": {},
   "outputs": [
    {
     "data": {
      "text/html": [
       "<div>\n",
       "<style scoped>\n",
       "    .dataframe tbody tr th:only-of-type {\n",
       "        vertical-align: middle;\n",
       "    }\n",
       "\n",
       "    .dataframe tbody tr th {\n",
       "        vertical-align: top;\n",
       "    }\n",
       "\n",
       "    .dataframe thead th {\n",
       "        text-align: right;\n",
       "    }\n",
       "</style>\n",
       "<table border=\"1\" class=\"dataframe\">\n",
       "  <thead>\n",
       "    <tr style=\"text-align: right;\">\n",
       "      <th></th>\n",
       "      <th>Invoice ID</th>\n",
       "      <th>Branch</th>\n",
       "      <th>Customer type</th>\n",
       "      <th>Gender</th>\n",
       "      <th>Product line</th>\n",
       "      <th>Unit price</th>\n",
       "      <th>Quantity</th>\n",
       "      <th>Tax 5%</th>\n",
       "      <th>Total</th>\n",
       "      <th>Date</th>\n",
       "      <th>Time</th>\n",
       "      <th>Payment</th>\n",
       "      <th>Rating</th>\n",
       "      <th>City</th>\n",
       "    </tr>\n",
       "  </thead>\n",
       "  <tbody>\n",
       "    <tr>\n",
       "      <th>0</th>\n",
       "      <td>750-67-8428</td>\n",
       "      <td>A</td>\n",
       "      <td>Normal</td>\n",
       "      <td>Male</td>\n",
       "      <td>Health and beauty</td>\n",
       "      <td>74.69</td>\n",
       "      <td>7</td>\n",
       "      <td>26.1415</td>\n",
       "      <td>NaN</td>\n",
       "      <td>2019-01-05</td>\n",
       "      <td>13:08:00</td>\n",
       "      <td>Ewallet</td>\n",
       "      <td>9.1</td>\n",
       "      <td>Yangon</td>\n",
       "    </tr>\n",
       "    <tr>\n",
       "      <th>1</th>\n",
       "      <td>226-31-3081</td>\n",
       "      <td>C</td>\n",
       "      <td>Normal</td>\n",
       "      <td>Male</td>\n",
       "      <td>Electronic accessories</td>\n",
       "      <td>15.28</td>\n",
       "      <td>5</td>\n",
       "      <td>3.8200</td>\n",
       "      <td>80.2200</td>\n",
       "      <td>2019-03-08</td>\n",
       "      <td>10:29:00</td>\n",
       "      <td>Cash</td>\n",
       "      <td>9.6</td>\n",
       "      <td>Naypyitaw</td>\n",
       "    </tr>\n",
       "    <tr>\n",
       "      <th>2</th>\n",
       "      <td>631-41-3108</td>\n",
       "      <td>A</td>\n",
       "      <td>Normal</td>\n",
       "      <td>Male</td>\n",
       "      <td>Home and lifestyle</td>\n",
       "      <td>46.33</td>\n",
       "      <td>7</td>\n",
       "      <td>16.2155</td>\n",
       "      <td>340.5255</td>\n",
       "      <td>2019-03-03</td>\n",
       "      <td>13:23:00</td>\n",
       "      <td>Credit card</td>\n",
       "      <td>7.4</td>\n",
       "      <td>Yangon</td>\n",
       "    </tr>\n",
       "    <tr>\n",
       "      <th>3</th>\n",
       "      <td>123-19-1176</td>\n",
       "      <td>A</td>\n",
       "      <td>Normal</td>\n",
       "      <td>Male</td>\n",
       "      <td>Health and beauty</td>\n",
       "      <td>58.22</td>\n",
       "      <td>8</td>\n",
       "      <td>NaN</td>\n",
       "      <td>489.0480</td>\n",
       "      <td>2019-01-27</td>\n",
       "      <td>08:30:00</td>\n",
       "      <td>Ewallet</td>\n",
       "      <td>8.4</td>\n",
       "      <td>Yangon</td>\n",
       "    </tr>\n",
       "    <tr>\n",
       "      <th>4</th>\n",
       "      <td>373-73-7910</td>\n",
       "      <td>A</td>\n",
       "      <td>Normal</td>\n",
       "      <td>Male</td>\n",
       "      <td>Sports and travel</td>\n",
       "      <td>86.31</td>\n",
       "      <td>7</td>\n",
       "      <td>30.2085</td>\n",
       "      <td>634.3785</td>\n",
       "      <td>2019-02-08</td>\n",
       "      <td>10:37:00</td>\n",
       "      <td>Ewallet</td>\n",
       "      <td>5.3</td>\n",
       "      <td>Yangon</td>\n",
       "    </tr>\n",
       "  </tbody>\n",
       "</table>\n",
       "</div>"
      ],
      "text/plain": [
       "    Invoice ID Branch Customer type Gender            Product line  \\\n",
       "0  750-67-8428      A        Normal   Male       Health and beauty   \n",
       "1  226-31-3081      C        Normal   Male  Electronic accessories   \n",
       "2  631-41-3108      A        Normal   Male      Home and lifestyle   \n",
       "3  123-19-1176      A        Normal   Male       Health and beauty   \n",
       "4  373-73-7910      A        Normal   Male       Sports and travel   \n",
       "\n",
       "   Unit price  Quantity   Tax 5%     Total       Date      Time      Payment  \\\n",
       "0       74.69         7  26.1415       NaN 2019-01-05  13:08:00      Ewallet   \n",
       "1       15.28         5   3.8200   80.2200 2019-03-08  10:29:00         Cash   \n",
       "2       46.33         7  16.2155  340.5255 2019-03-03  13:23:00  Credit card   \n",
       "3       58.22         8      NaN  489.0480 2019-01-27  08:30:00      Ewallet   \n",
       "4       86.31         7  30.2085  634.3785 2019-02-08  10:37:00      Ewallet   \n",
       "\n",
       "   Rating       City  \n",
       "0     9.1     Yangon  \n",
       "1     9.6  Naypyitaw  \n",
       "2     7.4     Yangon  \n",
       "3     8.4     Yangon  \n",
       "4     5.3     Yangon  "
      ]
     },
     "execution_count": 36,
     "metadata": {},
     "output_type": "execute_result"
    }
   ],
   "source": [
    "df_clean.head()"
   ]
  },
  {
   "cell_type": "code",
   "execution_count": 37,
   "id": "75a56713-26d4-43bb-9ce1-822147dbe219",
   "metadata": {},
   "outputs": [
    {
     "name": "stdout",
     "output_type": "stream",
     "text": [
      "<class 'datetime.time'>\n"
     ]
    }
   ],
   "source": [
    "print(type(df_clean['Time'].iloc[0]))"
   ]
  },
  {
   "cell_type": "markdown",
   "id": "caeb171e-af5a-4b2b-8ebe-63ccf6a5a1a3",
   "metadata": {},
   "source": [
    "<h3 style=\"color:#FF6347; font-size:22px; font-weight:bold; background-color:#2F2F2F; padding:5px; border-radius:5px;\"\">3-Handling Missing Values</h3>"
   ]
  },
  {
   "cell_type": "code",
   "execution_count": 38,
   "id": "63cf3619-3fc4-4013-986c-0589a5f0cf57",
   "metadata": {},
   "outputs": [
    {
     "data": {
      "text/html": [
       "<div>\n",
       "<style scoped>\n",
       "    .dataframe tbody tr th:only-of-type {\n",
       "        vertical-align: middle;\n",
       "    }\n",
       "\n",
       "    .dataframe tbody tr th {\n",
       "        vertical-align: top;\n",
       "    }\n",
       "\n",
       "    .dataframe thead th {\n",
       "        text-align: right;\n",
       "    }\n",
       "</style>\n",
       "<table border=\"1\" class=\"dataframe\">\n",
       "  <thead>\n",
       "    <tr style=\"text-align: right;\">\n",
       "      <th></th>\n",
       "      <th>Unit price</th>\n",
       "      <th>Quantity</th>\n",
       "      <th>Tax 5%</th>\n",
       "      <th>Total</th>\n",
       "      <th>Date</th>\n",
       "      <th>Rating</th>\n",
       "    </tr>\n",
       "  </thead>\n",
       "  <tbody>\n",
       "    <tr>\n",
       "      <th>count</th>\n",
       "      <td>1005.000000</td>\n",
       "      <td>1005.000000</td>\n",
       "      <td>996.000000</td>\n",
       "      <td>1002.000000</td>\n",
       "      <td>1005</td>\n",
       "      <td>1005.000000</td>\n",
       "    </tr>\n",
       "    <tr>\n",
       "      <th>mean</th>\n",
       "      <td>55.704886</td>\n",
       "      <td>5.517413</td>\n",
       "      <td>15.482603</td>\n",
       "      <td>322.793337</td>\n",
       "      <td>2019-02-13 23:52:50.149253632</td>\n",
       "      <td>6.966667</td>\n",
       "    </tr>\n",
       "    <tr>\n",
       "      <th>min</th>\n",
       "      <td>10.080000</td>\n",
       "      <td>1.000000</td>\n",
       "      <td>0.508500</td>\n",
       "      <td>10.678500</td>\n",
       "      <td>2019-01-01 00:00:00</td>\n",
       "      <td>4.000000</td>\n",
       "    </tr>\n",
       "    <tr>\n",
       "      <th>25%</th>\n",
       "      <td>32.900000</td>\n",
       "      <td>3.000000</td>\n",
       "      <td>5.986375</td>\n",
       "      <td>123.157125</td>\n",
       "      <td>2019-01-24 00:00:00</td>\n",
       "      <td>5.500000</td>\n",
       "    </tr>\n",
       "    <tr>\n",
       "      <th>50%</th>\n",
       "      <td>55.450000</td>\n",
       "      <td>5.000000</td>\n",
       "      <td>12.218750</td>\n",
       "      <td>253.848000</td>\n",
       "      <td>2019-02-13 00:00:00</td>\n",
       "      <td>7.000000</td>\n",
       "    </tr>\n",
       "    <tr>\n",
       "      <th>75%</th>\n",
       "      <td>77.950000</td>\n",
       "      <td>8.000000</td>\n",
       "      <td>22.725375</td>\n",
       "      <td>471.019500</td>\n",
       "      <td>2019-03-08 00:00:00</td>\n",
       "      <td>8.500000</td>\n",
       "    </tr>\n",
       "    <tr>\n",
       "      <th>max</th>\n",
       "      <td>99.960000</td>\n",
       "      <td>10.000000</td>\n",
       "      <td>49.650000</td>\n",
       "      <td>1042.650000</td>\n",
       "      <td>2019-03-30 00:00:00</td>\n",
       "      <td>10.000000</td>\n",
       "    </tr>\n",
       "    <tr>\n",
       "      <th>std</th>\n",
       "      <td>26.518439</td>\n",
       "      <td>2.927229</td>\n",
       "      <td>11.733849</td>\n",
       "      <td>245.981724</td>\n",
       "      <td>NaN</td>\n",
       "      <td>1.720289</td>\n",
       "    </tr>\n",
       "  </tbody>\n",
       "</table>\n",
       "</div>"
      ],
      "text/plain": [
       "        Unit price     Quantity      Tax 5%        Total  \\\n",
       "count  1005.000000  1005.000000  996.000000  1002.000000   \n",
       "mean     55.704886     5.517413   15.482603   322.793337   \n",
       "min      10.080000     1.000000    0.508500    10.678500   \n",
       "25%      32.900000     3.000000    5.986375   123.157125   \n",
       "50%      55.450000     5.000000   12.218750   253.848000   \n",
       "75%      77.950000     8.000000   22.725375   471.019500   \n",
       "max      99.960000    10.000000   49.650000  1042.650000   \n",
       "std      26.518439     2.927229   11.733849   245.981724   \n",
       "\n",
       "                                Date       Rating  \n",
       "count                           1005  1005.000000  \n",
       "mean   2019-02-13 23:52:50.149253632     6.966667  \n",
       "min              2019-01-01 00:00:00     4.000000  \n",
       "25%              2019-01-24 00:00:00     5.500000  \n",
       "50%              2019-02-13 00:00:00     7.000000  \n",
       "75%              2019-03-08 00:00:00     8.500000  \n",
       "max              2019-03-30 00:00:00    10.000000  \n",
       "std                              NaN     1.720289  "
      ]
     },
     "execution_count": 38,
     "metadata": {},
     "output_type": "execute_result"
    }
   ],
   "source": [
    "df_clean.describe()"
   ]
  },
  {
   "cell_type": "code",
   "execution_count": 39,
   "id": "bb13231e-2f7e-42c0-8608-f71cfb4e0aed",
   "metadata": {},
   "outputs": [
    {
     "data": {
      "text/plain": [
       "Invoice ID       0\n",
       "Branch           0\n",
       "Customer type    0\n",
       "Gender           0\n",
       "Product line     0\n",
       "Unit price       0\n",
       "Quantity         0\n",
       "Tax 5%           9\n",
       "Total            3\n",
       "Date             0\n",
       "Time             0\n",
       "Payment          0\n",
       "Rating           0\n",
       "City             0\n",
       "dtype: int64"
      ]
     },
     "execution_count": 39,
     "metadata": {},
     "output_type": "execute_result"
    }
   ],
   "source": [
    "# Checks for missing values \n",
    "df_clean.isnull().sum()"
   ]
  },
  {
   "cell_type": "markdown",
   "id": "aa5112e8-d063-4389-8c5e-00600d74ecd8",
   "metadata": {},
   "source": [
    "<h3 style=\"color:#FF6347; font-size:22px;\">1.Tax 5%</h3>"
   ]
  },
  {
   "cell_type": "markdown",
   "id": "321357d3-b60a-45f8-bee4-ebe0ee26de53",
   "metadata": {},
   "source": [
    "<h5 style=\"color:#FF6347; font-weight:bold; background-color:#2F2F2F; padding:5px; border-radius:5px;\">Handling Missing Values in Column [Tax 5%] :\n",
    "    <br>\n",
    "$$\n",
    "\\text{Tax Amount} = (\\text{Unit Price} \\times \\text{Quantity}) \\times \\frac{\\text{Tax Rate}}{100}\n",
    "$$\n",
    "</h4> \n"
   ]
  },
  {
   "cell_type": "code",
   "execution_count": 40,
   "id": "f353cfe1-3307-4071-96f6-42e581f92957",
   "metadata": {},
   "outputs": [],
   "source": [
    "df_clean['Tax 5%'] = (df_clean['Unit price'] *  df_clean['Quantity']) * 0.05"
   ]
  },
  {
   "cell_type": "code",
   "execution_count": 41,
   "id": "8b152c58-90a3-45e2-84da-dc9690767a9d",
   "metadata": {},
   "outputs": [
    {
     "data": {
      "text/plain": [
       "Invoice ID       0\n",
       "Branch           0\n",
       "Customer type    0\n",
       "Gender           0\n",
       "Product line     0\n",
       "Unit price       0\n",
       "Quantity         0\n",
       "Tax 5%           0\n",
       "Total            3\n",
       "Date             0\n",
       "Time             0\n",
       "Payment          0\n",
       "Rating           0\n",
       "City             0\n",
       "dtype: int64"
      ]
     },
     "execution_count": 41,
     "metadata": {},
     "output_type": "execute_result"
    }
   ],
   "source": [
    "df_clean.isnull().sum()"
   ]
  },
  {
   "cell_type": "markdown",
   "id": "f7fc0591-b9a7-41b3-bd62-719390f19851",
   "metadata": {},
   "source": [
    "<h3 style=\"color:#FF6347; font-size:22px;\">2.Total</h3>"
   ]
  },
  {
   "cell_type": "markdown",
   "id": "90f56edd-68b9-405f-a70c-9b2e09c96511",
   "metadata": {},
   "source": [
    "<h5 style=\"color:#FF6347; font-weight:bold; background-color:#2F2F2F; padding:5px; border-radius:5px;\">Handling Missing Values in Column [Total] :\n",
    "    <br>\n",
    "\\[\n",
    "\\text{Total} = (\\text{Unit Price} \\times \\text{Quantity}) + \\text{Tax Amount}\n",
    "\\]\n",
    "</h4> \n"
   ]
  },
  {
   "cell_type": "code",
   "execution_count": 42,
   "id": "c427bbfc-7f5a-4e78-b881-d310b501417e",
   "metadata": {},
   "outputs": [],
   "source": [
    "df_clean['Total'] = (df_clean['Unit price'] * df_clean['Quantity']) + df_clean['Tax 5%']"
   ]
  },
  {
   "cell_type": "code",
   "execution_count": 43,
   "id": "b1788e86-6e4c-4bea-b9c3-1bfca55e320c",
   "metadata": {},
   "outputs": [
    {
     "data": {
      "text/plain": [
       "Invoice ID       0\n",
       "Branch           0\n",
       "Customer type    0\n",
       "Gender           0\n",
       "Product line     0\n",
       "Unit price       0\n",
       "Quantity         0\n",
       "Tax 5%           0\n",
       "Total            0\n",
       "Date             0\n",
       "Time             0\n",
       "Payment          0\n",
       "Rating           0\n",
       "City             0\n",
       "dtype: int64"
      ]
     },
     "execution_count": 43,
     "metadata": {},
     "output_type": "execute_result"
    }
   ],
   "source": [
    "df_clean.isnull().sum()"
   ]
  },
  {
   "cell_type": "code",
   "execution_count": 44,
   "id": "646c34f5-62c1-4c37-90d0-e66f6a90a7d0",
   "metadata": {},
   "outputs": [
    {
     "data": {
      "text/html": [
       "<div>\n",
       "<style scoped>\n",
       "    .dataframe tbody tr th:only-of-type {\n",
       "        vertical-align: middle;\n",
       "    }\n",
       "\n",
       "    .dataframe tbody tr th {\n",
       "        vertical-align: top;\n",
       "    }\n",
       "\n",
       "    .dataframe thead th {\n",
       "        text-align: right;\n",
       "    }\n",
       "</style>\n",
       "<table border=\"1\" class=\"dataframe\">\n",
       "  <thead>\n",
       "    <tr style=\"text-align: right;\">\n",
       "      <th></th>\n",
       "      <th>Unit price</th>\n",
       "      <th>Quantity</th>\n",
       "      <th>Tax 5%</th>\n",
       "      <th>Total</th>\n",
       "      <th>Date</th>\n",
       "      <th>Rating</th>\n",
       "    </tr>\n",
       "  </thead>\n",
       "  <tbody>\n",
       "    <tr>\n",
       "      <th>count</th>\n",
       "      <td>1005.000000</td>\n",
       "      <td>1005.000000</td>\n",
       "      <td>1005.000000</td>\n",
       "      <td>1005.000000</td>\n",
       "      <td>1005</td>\n",
       "      <td>1005.000000</td>\n",
       "    </tr>\n",
       "    <tr>\n",
       "      <th>mean</th>\n",
       "      <td>55.704886</td>\n",
       "      <td>5.517413</td>\n",
       "      <td>15.414011</td>\n",
       "      <td>323.694230</td>\n",
       "      <td>2019-02-13 23:52:50.149253632</td>\n",
       "      <td>6.966667</td>\n",
       "    </tr>\n",
       "    <tr>\n",
       "      <th>min</th>\n",
       "      <td>10.080000</td>\n",
       "      <td>1.000000</td>\n",
       "      <td>0.508500</td>\n",
       "      <td>10.678500</td>\n",
       "      <td>2019-01-01 00:00:00</td>\n",
       "      <td>4.000000</td>\n",
       "    </tr>\n",
       "    <tr>\n",
       "      <th>25%</th>\n",
       "      <td>32.900000</td>\n",
       "      <td>3.000000</td>\n",
       "      <td>5.955000</td>\n",
       "      <td>125.055000</td>\n",
       "      <td>2019-01-24 00:00:00</td>\n",
       "      <td>5.500000</td>\n",
       "    </tr>\n",
       "    <tr>\n",
       "      <th>50%</th>\n",
       "      <td>55.450000</td>\n",
       "      <td>5.000000</td>\n",
       "      <td>12.150000</td>\n",
       "      <td>255.150000</td>\n",
       "      <td>2019-02-13 00:00:00</td>\n",
       "      <td>7.000000</td>\n",
       "    </tr>\n",
       "    <tr>\n",
       "      <th>75%</th>\n",
       "      <td>77.950000</td>\n",
       "      <td>8.000000</td>\n",
       "      <td>22.588000</td>\n",
       "      <td>474.348000</td>\n",
       "      <td>2019-03-08 00:00:00</td>\n",
       "      <td>8.500000</td>\n",
       "    </tr>\n",
       "    <tr>\n",
       "      <th>max</th>\n",
       "      <td>99.960000</td>\n",
       "      <td>10.000000</td>\n",
       "      <td>49.650000</td>\n",
       "      <td>1042.650000</td>\n",
       "      <td>2019-03-30 00:00:00</td>\n",
       "      <td>10.000000</td>\n",
       "    </tr>\n",
       "    <tr>\n",
       "      <th>std</th>\n",
       "      <td>26.518439</td>\n",
       "      <td>2.927229</td>\n",
       "      <td>11.724464</td>\n",
       "      <td>246.213747</td>\n",
       "      <td>NaN</td>\n",
       "      <td>1.720289</td>\n",
       "    </tr>\n",
       "  </tbody>\n",
       "</table>\n",
       "</div>"
      ],
      "text/plain": [
       "        Unit price     Quantity       Tax 5%        Total  \\\n",
       "count  1005.000000  1005.000000  1005.000000  1005.000000   \n",
       "mean     55.704886     5.517413    15.414011   323.694230   \n",
       "min      10.080000     1.000000     0.508500    10.678500   \n",
       "25%      32.900000     3.000000     5.955000   125.055000   \n",
       "50%      55.450000     5.000000    12.150000   255.150000   \n",
       "75%      77.950000     8.000000    22.588000   474.348000   \n",
       "max      99.960000    10.000000    49.650000  1042.650000   \n",
       "std      26.518439     2.927229    11.724464   246.213747   \n",
       "\n",
       "                                Date       Rating  \n",
       "count                           1005  1005.000000  \n",
       "mean   2019-02-13 23:52:50.149253632     6.966667  \n",
       "min              2019-01-01 00:00:00     4.000000  \n",
       "25%              2019-01-24 00:00:00     5.500000  \n",
       "50%              2019-02-13 00:00:00     7.000000  \n",
       "75%              2019-03-08 00:00:00     8.500000  \n",
       "max              2019-03-30 00:00:00    10.000000  \n",
       "std                              NaN     1.720289  "
      ]
     },
     "execution_count": 44,
     "metadata": {},
     "output_type": "execute_result"
    }
   ],
   "source": [
    "df_clean.describe()"
   ]
  },
  {
   "cell_type": "markdown",
   "id": "53b31117-b2f3-482f-85b2-8a3dda868234",
   "metadata": {},
   "source": [
    "<h1 style=\"color:lightGreen; font-size:32px; font-weight:bold; background-color:#1C1C1C;padding:10px; border-radius:8px;\">4.Data Visualization</h1>"
   ]
  },
  {
   "cell_type": "markdown",
   "id": "d43fba26-fe53-4ffb-8213-e81f8ca88689",
   "metadata": {},
   "source": [
    "<ol style=\"color:#FF6347; font-weight:bold; background-color:#2F2F2F; padding:20px; border-radius:5px;\"><b> \n",
    "   <li>Sales Analysis : <b style=\"color:yellow;\">What is the best-selling product line?</b></li>\n",
    "     <br>\n",
    "  <li>Branch Analysis : <b style=\"color:yellow;\">Which branch generates the highest profit margin?</b> </li>\n",
    "    <br>\n",
    "    <li>Customer Analysis : <b style=\"color:yellow;\">What type of customers purchase the most?</b></li>\n",
    "    <br>\n",
    "    <li>Time Analysis : <b style=\"color:yellow;\">Which days have the highest sales?</b></li>\n",
    "    <br>\n",
    "    <li>Payment Analysis : <b style=\"color:yellow;\">What is the most commonly used payment method?</b></li>\n",
    "    <br>\n",
    "    <li>Cities Analysis : <b style=\"color:yellow;\">Which cities have the highest sales?</b></li>\n",
    " </ol>"
   ]
  },
  {
   "cell_type": "markdown",
   "id": "20728f41-4b7b-475f-9170-767b377fed34",
   "metadata": {},
   "source": [
    "<h3 style=\"color:#FF6347; font-size:22px; font-weight:bold; background-color:#2F2F2F; padding:5px; border-radius:5px;\"\">1-Sales Analysis</h3>"
   ]
  },
  {
   "cell_type": "markdown",
   "id": "2fa04470-ee2d-447b-8d8b-0113b77dd3d2",
   "metadata": {},
   "source": [
    "##### <span style=\"color:orange\">What is the best-selling product line?"
   ]
  },
  {
   "cell_type": "code",
   "execution_count": 45,
   "id": "6b5e5400-f362-4e9f-9d4d-33c3d530bb56",
   "metadata": {},
   "outputs": [
    {
     "data": {
      "text/plain": [
       "array([981, 961, 922, 915, 909, 857], dtype=int64)"
      ]
     },
     "execution_count": 45,
     "metadata": {},
     "output_type": "execute_result"
    }
   ],
   "source": [
    "quantity_sold = df_clean.groupby(\"Product line\")[\"Quantity\"].sum().sort_values(ascending=False)\n",
    "value1 = quantity_sold.values\n",
    "value1"
   ]
  },
  {
   "cell_type": "code",
   "execution_count": 88,
   "id": "42f069c1-9bf3-4ae5-844d-e4073a851539",
   "metadata": {},
   "outputs": [
    {
     "name": "stderr",
     "output_type": "stream",
     "text": [
      "C:\\Users\\OAMR1\\AppData\\Local\\Temp\\ipykernel_22540\\4163661333.py:2: FutureWarning: \n",
      "\n",
      "Passing `palette` without assigning `hue` is deprecated and will be removed in v0.14.0. Assign the `x` variable to `hue` and set `legend=False` for the same effect.\n",
      "\n",
      "  sns.barplot(x=quantity_sold.index, y=quantity_sold.values, palette=\"viridis\" , edgecolor=\"black\")\n"
     ]
    },
    {
     "data": {
      "image/png": "[encoded data removed]",
      "text/plain": [
       "<Figure size 800x500 with 1 Axes>"
      ]
     },
     "metadata": {},
     "output_type": "display_data"
    }
   ],
   "source": [
    "plt.figure(figsize=(8, 5))\n",
    "sns.barplot(x=quantity_sold.index, y=quantity_sold.values, palette=\"viridis\" , edgecolor=\"black\")\n",
    "sns.set_context(\"talk\")\n",
    "plt.xticks(rotation=45)\n",
    "plt.xlabel(\"Product Line\")\n",
    "plt.ylabel(\"Total quantity sold\")\n",
    "plt.title(\"The best-selling product line\")\n",
    "plt.style.use('grayscale')\n",
    "plt.savefig(\"plot1.png\", transparent=True, dpi=300, bbox_inches='tight')"
   ]
  },
  {
   "cell_type": "markdown",
   "id": "3efb3655-f6fc-473d-a10e-a215e639ea43",
   "metadata": {},
   "source": [
    "<h3 style=\"color:#FF6347; font-size:22px; font-weight:bold; background-color:#2F2F2F; padding:5px; border-radius:5px;\"\">2-Branch Analysis</h3>"
   ]
  },
  {
   "cell_type": "markdown",
   "id": "8dbbdd3c-6d34-489f-b442-dfa746b0cc14",
   "metadata": {},
   "source": [
    "##### <span style=\"color:orange\"> Which branch generates the highest profit margin?"
   ]
  },
  {
   "cell_type": "code",
   "execution_count": 47,
   "id": "f1b26604-49fb-45f2-98e6-d6b0c38d2898",
   "metadata": {},
   "outputs": [],
   "source": [
    "Branch_profits = df_clean.groupby(\"Branch\")['Total'].sum().sort_values(ascending=False)\n",
    "value2 = Branch_profits.values"
   ]
  },
  {
   "cell_type": "code",
   "execution_count": 89,
   "id": "75310b69-e125-4491-97be-da1ce23be89a",
   "metadata": {},
   "outputs": [
    {
     "name": "stderr",
     "output_type": "stream",
     "text": [
      "C:\\Users\\OAMR1\\AppData\\Local\\Temp\\ipykernel_22540\\1536686639.py:2: FutureWarning: \n",
      "\n",
      "Passing `palette` without assigning `hue` is deprecated and will be removed in v0.14.0. Assign the `x` variable to `hue` and set `legend=False` for the same effect.\n",
      "\n",
      "  sns.barplot(x=Branch_profits.index, y=Branch_profits.values,palette=\"viridis\" , edgecolor=\"black\")\n"
     ]
    },
    {
     "data": {
      "image/png": "[encoded data removed]",
      "text/plain": [
       "<Figure size 1000x500 with 1 Axes>"
      ]
     },
     "metadata": {},
     "output_type": "display_data"
    }
   ],
   "source": [
    "plt.figure(figsize=(10, 5))\n",
    "sns.barplot(x=Branch_profits.index, y=Branch_profits.values,palette=\"viridis\" , edgecolor=\"black\")\n",
    "sns.set_context(\"talk\")\n",
    "plt.xlabel(\"Branch\")\n",
    "plt.ylabel(\"Total Sales\")\n",
    "plt.title(\"The Best profit branch\")\n",
    "plt.style.use('grayscale')\n",
    "plt.savefig(\"plot2.png\", transparent=True, dpi=300, bbox_inches='tight')\n"
   ]
  },
  {
   "cell_type": "markdown",
   "id": "7464106d-77f0-41b7-93d6-08797a1f11bc",
   "metadata": {},
   "source": [
    "<h3 style=\"color:#FF6347; font-size:22px; font-weight:bold; background-color:#2F2F2F; padding:5px; border-radius:5px;\"\">3-Customer Analysis</h3>"
   ]
  },
  {
   "cell_type": "markdown",
   "id": "fdfdf1ec-cb66-44af-8331-1d2645e3383e",
   "metadata": {},
   "source": [
    "##### <span style=\"color:orange\">What type of customers purchase the most?"
   ]
  },
  {
   "cell_type": "code",
   "execution_count": 98,
   "id": "7a0d2acf-1ebe-488a-8bfa-9473ba05de51",
   "metadata": {},
   "outputs": [
    {
     "data": {
      "text/plain": [
       "Customer type\n",
       "Normal    2958\n",
       "Member    2587\n",
       "Name: Quantity, dtype: int64"
      ]
     },
     "execution_count": 98,
     "metadata": {},
     "output_type": "execute_result"
    }
   ],
   "source": [
    "Customer_sales = df_clean.groupby(\"Customer type\")[\"Quantity\"].sum().sort_values(ascending=False)\n",
    "Customer_sales"
   ]
  },
  {
   "cell_type": "code",
   "execution_count": 99,
   "id": "8b41f643-6316-4e04-b608-e8deaed99228",
   "metadata": {},
   "outputs": [
    {
     "name": "stderr",
     "output_type": "stream",
     "text": [
      "C:\\Users\\OAMR1\\AppData\\Local\\Temp\\ipykernel_22540\\1693723073.py:2: FutureWarning: \n",
      "\n",
      "Passing `palette` without assigning `hue` is deprecated and will be removed in v0.14.0. Assign the `x` variable to `hue` and set `legend=False` for the same effect.\n",
      "\n",
      "  sns.barplot(x=Customer_sales.index, y=Customer_sales.values, palette=\"viridis\" , edgecolor=\"black\")\n"
     ]
    },
    {
     "data": {
      "image/png": "[encoded data removed]",
      "text/plain": [
       "<Figure size 600x400 with 1 Axes>"
      ]
     },
     "metadata": {},
     "output_type": "display_data"
    }
   ],
   "source": [
    "plt.figure(figsize=(6, 4))\n",
    "sns.barplot(x=Customer_sales.index, y=Customer_sales.values, palette=\"viridis\" , edgecolor=\"black\")\n",
    "sns.set_context(\"talk\")\n",
    "plt.xlabel(\"Customer Type\")\n",
    "plt.ylabel(\"Total Quantity Purchased\")\n",
    "plt.title(\"Total Purchases by Customer Type\")\n",
    "plt.style.use('grayscale')\n",
    "plt.savefig(\"plot3.png\", transparent=True, dpi=300, bbox_inches='tight')"
   ]
  },
  {
   "cell_type": "markdown",
   "id": "1c3acfc9-6608-4a87-b273-20539f7534ef",
   "metadata": {},
   "source": [
    "<h3 style=\"color:#FF6347; font-size:22px; font-weight:bold; background-color:#2F2F2F; padding:5px; border-radius:5px;\"\">4-Time Analysis</h3>"
   ]
  },
  {
   "cell_type": "markdown",
   "id": "35d1eeac-65aa-47e4-b9c0-8608a631974d",
   "metadata": {},
   "source": [
    "##### <span style=\"color:orange\">Which days have the highest sales?"
   ]
  },
  {
   "cell_type": "code",
   "execution_count": 51,
   "id": "c968e27e-cd89-4b28-8373-e65948f0b673",
   "metadata": {},
   "outputs": [
    {
     "data": {
      "text/plain": [
       "Date\n",
       "Saturday     56669.5710\n",
       "Tuesday      51826.2360\n",
       "Sunday       45639.6885\n",
       "Thursday     45085.2780\n",
       "Friday       44461.7145\n",
       "Wednesday    43731.1350\n",
       "Monday       37899.0780\n",
       "Name: Total, dtype: float64"
      ]
     },
     "execution_count": 51,
     "metadata": {},
     "output_type": "execute_result"
    }
   ],
   "source": [
    "sales_per_day = df_clean.groupby(df_clean['Date'].dt.day_name())['Total'].sum().sort_values(ascending=False)\n",
    "sales_per_day"
   ]
  },
  {
   "cell_type": "code",
   "execution_count": 92,
   "id": "cbd7f2e8-acd7-4201-ac40-b02c66331cbe",
   "metadata": {},
   "outputs": [
    {
     "name": "stderr",
     "output_type": "stream",
     "text": [
      "C:\\Users\\OAMR1\\AppData\\Local\\Temp\\ipykernel_22540\\1463824995.py:2: FutureWarning: \n",
      "\n",
      "Passing `palette` without assigning `hue` is deprecated and will be removed in v0.14.0. Assign the `x` variable to `hue` and set `legend=False` for the same effect.\n",
      "\n",
      "  sns.barplot(x=sales_per_day.index, y=sales_per_day.values, palette=\"viridis\" , edgecolor=\"black\")\n"
     ]
    },
    {
     "data": {
      "image/png": "[encoded data removed]",
      "text/plain": [
       "<Figure size 1000x500 with 1 Axes>"
      ]
     },
     "metadata": {},
     "output_type": "display_data"
    }
   ],
   "source": [
    "plt.figure(figsize=(10, 5))\n",
    "sns.barplot(x=sales_per_day.index, y=sales_per_day.values, palette=\"viridis\" , edgecolor=\"black\")\n",
    "sns.set_context(\"talk\")\n",
    "plt.xticks(rotation=45)\n",
    "plt.xlabel(\"Day of the Week\")\n",
    "plt.ylabel(\"Total Sales\")\n",
    "plt.title(\"Sales by Day of the Week\")\n",
    "plt.style.use('grayscale')\n",
    "plt.savefig(\"plot4.png\", transparent=True, dpi=300, bbox_inches='tight')"
   ]
  },
  {
   "cell_type": "markdown",
   "id": "598d1523-5c2e-49e7-bcac-6720f3d1f704",
   "metadata": {},
   "source": [
    "<h3 style=\"color:#FF6347; font-size:22px; font-weight:bold; background-color:#2F2F2F; padding:5px; border-radius:5px;\"\">5-Payment Analysis</h3>"
   ]
  },
  {
   "cell_type": "markdown",
   "id": "b9244666-58f5-4244-bf5d-5519883459f5",
   "metadata": {},
   "source": [
    "##### <span style=\"color:orange\">What is the most commonly used payment method?"
   ]
  },
  {
   "cell_type": "code",
   "execution_count": 53,
   "id": "7ca4955f-bc51-4ac0-8515-27f54ad5a7e1",
   "metadata": {},
   "outputs": [
    {
     "data": {
      "text/plain": [
       "Payment\n",
       "Cash           1922\n",
       "Ewallet        1898\n",
       "Credit card    1725\n",
       "Name: Quantity, dtype: int64"
      ]
     },
     "execution_count": 53,
     "metadata": {},
     "output_type": "execute_result"
    }
   ],
   "source": [
    "payment = df_clean.groupby('Payment')['Quantity'].sum().sort_values(ascending=False)\n",
    "payment"
   ]
  },
  {
   "cell_type": "code",
   "execution_count": 93,
   "id": "86684780-ee32-4a45-80ca-6f729d6151ca",
   "metadata": {},
   "outputs": [
    {
     "name": "stderr",
     "output_type": "stream",
     "text": [
      "C:\\Users\\OAMR1\\AppData\\Local\\Temp\\ipykernel_22540\\1376783069.py:2: FutureWarning: \n",
      "\n",
      "Passing `palette` without assigning `hue` is deprecated and will be removed in v0.14.0. Assign the `x` variable to `hue` and set `legend=False` for the same effect.\n",
      "\n",
      "  sns.barplot(x=payment.index, y=payment.values, palette=\"viridis\" , edgecolor=\"black\")\n"
     ]
    },
    {
     "data": {
      "image/png": "[encoded data removed]",
      "text/plain": [
       "<Figure size 600x500 with 1 Axes>"
      ]
     },
     "metadata": {},
     "output_type": "display_data"
    }
   ],
   "source": [
    "plt.figure(figsize=(6, 5))\n",
    "sns.barplot(x=payment.index, y=payment.values, palette=\"viridis\" , edgecolor=\"black\")\n",
    "sns.set_context(\"talk\")\n",
    "plt.xlabel(\"Day of the Week\")\n",
    "plt.ylabel(\"Total Sales\")\n",
    "plt.title(\"most commonly used payment method\")\n",
    "plt.style.use('grayscale')\n",
    "plt.savefig(\"plot5.png\", transparent=True, dpi=300, bbox_inches='tight')"
   ]
  },
  {
   "cell_type": "markdown",
   "id": "10af317b-6041-4e87-9ac8-f3cdc45a0059",
   "metadata": {},
   "source": [
    "<h3 style=\"color:#FF6347; font-size:22px; font-weight:bold; background-color:#2F2F2F; padding:5px; border-radius:5px;\"\">6-Cities Analysis</h3>"
   ]
  },
  {
   "cell_type": "markdown",
   "id": "ebb680f6-dfaf-435f-a480-77d16a7de38c",
   "metadata": {},
   "source": [
    "##### <span style=\"color:orange\">Which cities have the highest sales?"
   ]
  },
  {
   "cell_type": "code",
   "execution_count": 55,
   "id": "dcab2c2f-f833-42a5-89dc-2f5859335cb0",
   "metadata": {},
   "outputs": [
    {
     "data": {
      "text/plain": [
       "City\n",
       "Naypyitaw    112059.864\n",
       "Yangon       106749.132\n",
       "Mandalay     106503.705\n",
       "Name: Total, dtype: float64"
      ]
     },
     "execution_count": 55,
     "metadata": {},
     "output_type": "execute_result"
    }
   ],
   "source": [
    "city_sales = df_clean.groupby('City')['Total'].sum().sort_values(ascending = False)\n",
    "city_sales"
   ]
  },
  {
   "cell_type": "code",
   "execution_count": 95,
   "id": "c8f6d055-a60e-4c4f-8eb3-dd6568858984",
   "metadata": {},
   "outputs": [
    {
     "name": "stderr",
     "output_type": "stream",
     "text": [
      "C:\\Users\\OAMR1\\AppData\\Local\\Temp\\ipykernel_22540\\1442548658.py:2: FutureWarning: \n",
      "\n",
      "Passing `palette` without assigning `hue` is deprecated and will be removed in v0.14.0. Assign the `x` variable to `hue` and set `legend=False` for the same effect.\n",
      "\n",
      "  sns.barplot(x=city_sales.index, y=city_sales.values, palette=\"viridis\", edgecolor=\"black\")\n"
     ]
    },
    {
     "data": {
      "image/png": "[encoded data removed]",
      "text/plain": [
       "<Figure size 800x500 with 1 Axes>"
      ]
     },
     "metadata": {},
     "output_type": "display_data"
    }
   ],
   "source": [
    "plt.figure(figsize=(8, 5))\n",
    "sns.barplot(x=city_sales.index, y=city_sales.values, palette=\"viridis\", edgecolor=\"black\")\n",
    "plt.xlabel(\"City\")\n",
    "plt.ylabel(\"Total Sales\")\n",
    "plt.title(\"Top Selling Cities Based on Total Sales\")\n",
    "plt.style.use('grayscale')\n",
    "plt.savefig(\"plot6.png\", transparent=True, dpi=300, bbox_inches='tight')"
   ]
  },
  {
   "cell_type": "code",
   "execution_count": 101,
   "id": "0b2415a8-8b39-4156-b7dd-8a48c3654bc0",
   "metadata": {},
   "outputs": [],
   "source": [
    "# Save File 'df_clean'\n",
    "df_clean.to_csv(\"SM_Clean.csv\",index = False)"
   ]
  },
  {
   "cell_type": "code",
   "execution_count": null,
   "id": "f10bbad5-4cf0-4608-ba7c-6fa3ced207f1",
   "metadata": {},
   "outputs": [],
   "source": []
  }
 ],
 "metadata": {
  "kernelspec": {
   "display_name": "Python 3 (ipykernel)",
   "language": "python",
   "name": "python3"
  },
  "language_info": {
   "codemirror_mode": {
    "name": "ipython",
    "version": 3
   },
   "file_extension": ".py",
   "mimetype": "text/x-python",
   "name": "python",
   "nbconvert_exporter": "python",
   "pygments_lexer": "ipython3",
   "version": "3.12.4"
  }
 },
 "nbformat": 4,
 "nbformat_minor": 5
}
